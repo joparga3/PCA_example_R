{
 "cells": [
  {
   "cell_type": "markdown",
   "metadata": {
    "toc": true
   },
   "source": [
    "<h1>Table of Contents<span class=\"tocSkip\"></span></h1>\n",
    "<div class=\"toc\"><ul class=\"toc-item\"><li><span><a href=\"#What-is-Principal-Component-Analysis?\" data-toc-modified-id=\"What-is-Principal-Component-Analysis?-1\"><span class=\"toc-item-num\">1&nbsp;&nbsp;</span>What is Principal Component Analysis?</a></span><ul class=\"toc-item\"><li><span><a href=\"#What-are-principal-components?\" data-toc-modified-id=\"What-are-principal-components?-1.1\"><span class=\"toc-item-num\">1.1&nbsp;&nbsp;</span>What are principal components?</a></span><ul class=\"toc-item\"><li><span><a href=\"#First-principal-component\" data-toc-modified-id=\"First-principal-component-1.1.1\"><span class=\"toc-item-num\">1.1.1&nbsp;&nbsp;</span>First principal component</a></span></li><li><span><a href=\"#Second-principal-component\" data-toc-modified-id=\"Second-principal-component-1.1.2\"><span class=\"toc-item-num\">1.1.2&nbsp;&nbsp;</span>Second principal component</a></span></li></ul></li></ul></li><li><span><a href=\"#Why-is-normalization-of-variables-necessary?\" data-toc-modified-id=\"Why-is-normalization-of-variables-necessary?-2\"><span class=\"toc-item-num\">2&nbsp;&nbsp;</span>Why is normalization of variables necessary?</a></span></li><li><span><a href=\"#Implementation-in-R\" data-toc-modified-id=\"Implementation-in-R-3\"><span class=\"toc-item-num\">3&nbsp;&nbsp;</span>Implementation in R</a></span><ul class=\"toc-item\"><li><span><a href=\"#Read-data\" data-toc-modified-id=\"Read-data-3.1\"><span class=\"toc-item-num\">3.1&nbsp;&nbsp;</span>Read data</a></span></li><li><span><a href=\"#Quick-data-cleaning\" data-toc-modified-id=\"Quick-data-cleaning-3.2\"><span class=\"toc-item-num\">3.2&nbsp;&nbsp;</span>Quick data cleaning</a></span></li><li><span><a href=\"#Remove-response-variable\" data-toc-modified-id=\"Remove-response-variable-3.3\"><span class=\"toc-item-num\">3.3&nbsp;&nbsp;</span>Remove response variable</a></span></li><li><span><a href=\"#One-Hot-encode-categorical-variables\" data-toc-modified-id=\"One-Hot-encode-categorical-variables-3.4\"><span class=\"toc-item-num\">3.4&nbsp;&nbsp;</span>One-Hot encode categorical variables</a></span></li><li><span><a href=\"#Divide-the-data-in-train-and-test\" data-toc-modified-id=\"Divide-the-data-in-train-and-test-3.5\"><span class=\"toc-item-num\">3.5&nbsp;&nbsp;</span>Divide the data in train and test</a></span></li><li><span><a href=\"#prcomp()-function\" data-toc-modified-id=\"prcomp()-function-3.6\"><span class=\"toc-item-num\">3.6&nbsp;&nbsp;</span>prcomp() function</a></span><ul class=\"toc-item\"><li><span><a href=\"#5-useful-measures-from-prcomp()\" data-toc-modified-id=\"5-useful-measures-from-prcomp()-3.6.1\"><span class=\"toc-item-num\">3.6.1&nbsp;&nbsp;</span>5 useful measures from prcomp()</a></span><ul class=\"toc-item\"><li><span><a href=\"#Center\" data-toc-modified-id=\"Center-3.6.1.1\"><span class=\"toc-item-num\">3.6.1.1&nbsp;&nbsp;</span>Center</a></span></li><li><span><a href=\"#Scale\" data-toc-modified-id=\"Scale-3.6.1.2\"><span class=\"toc-item-num\">3.6.1.2&nbsp;&nbsp;</span>Scale</a></span></li><li><span><a href=\"#Rotation\" data-toc-modified-id=\"Rotation-3.6.1.3\"><span class=\"toc-item-num\">3.6.1.3&nbsp;&nbsp;</span>Rotation</a></span></li><li><span><a href=\"#x\" data-toc-modified-id=\"x-3.6.1.4\"><span class=\"toc-item-num\">3.6.1.4&nbsp;&nbsp;</span>x</a></span></li><li><span><a href=\"#sdev\" data-toc-modified-id=\"sdev-3.6.1.5\"><span class=\"toc-item-num\">3.6.1.5&nbsp;&nbsp;</span>sdev</a></span></li></ul></li></ul></li></ul></li><li><span><a href=\"#Predictive-Modeling-with-PCA-Components\" data-toc-modified-id=\"Predictive-Modeling-with-PCA-Components-4\"><span class=\"toc-item-num\">4&nbsp;&nbsp;</span>Predictive Modeling with PCA Components</a></span><ul class=\"toc-item\"><li><span><a href=\"#Applying-same-transformations-of-train-set-to-test-set\" data-toc-modified-id=\"Applying-same-transformations-of-train-set-to-test-set-4.1\"><span class=\"toc-item-num\">4.1&nbsp;&nbsp;</span>Applying same transformations of train set to test set</a></span></li></ul></li></ul></div>"
   ]
  },
  {
   "cell_type": "markdown",
   "metadata": {},
   "source": [
    "# What is Principal Component Analysis?"
   ]
  },
  {
   "cell_type": "markdown",
   "metadata": {},
   "source": [
    "In simple words, principal component analysis is a method of extracting important variables (in form of components) from a large set of variables available in a data set. It extracts low dimensional set of features from a high dimensional data set with a motive to capture as much information as possible. With fewer variables, visualization also becomes much more meaningful. PCA is more useful when dealing with 3 or higher dimensional data.\n",
    "\n",
    "It is always performed on a symmetric correlation or covariance matrix. **This means the matrix should be numeric and have standardized data.**\n",
    "\n",
    "Let’s understand it using an example:\n",
    "\n",
    "* Let’s say we have a data set of dimension 300 (n) × 50 (p). n represents the number of observations and p represents number of predictors. Since we have a large p = 50, there can be p(p-1)/2 scatter plots i.e more than 1000 plots possible to analyze the variable relationship. Wouldn’t is be a tedious job to perform exploratory analysis on this data?\n",
    "* In this case, it would be a lucid approach to select a subset of p (p << 50) predictor which captures as much information. Followed by plotting the observation in the resultant low dimensional space."
   ]
  },
  {
   "cell_type": "markdown",
   "metadata": {},
   "source": [
    "## What are principal components?\n",
    "\n",
    "### First principal component\n",
    "\n",
    "A principal component is a normalized linear combination of the original predictors in a data set. In image above, *PC1* and *PC2* are the principal components. Let’s say we have a set of predictors as $X¹, X²...,X^p$. The principal component can be written as:\n",
    "\n",
    "$$ Z¹ = Φ¹¹X¹ + Φ²¹X² + Φ³¹X³ + .... +Φp¹Xp $$\n",
    "\n",
    "where,\n",
    "\n",
    "* $Z¹$ is first principal component\n",
    "* $Φp¹$ is the loading vector comprising of loadings $(Φ¹, Φ²..)$ of first principal component. The loadings are constrained to a sum of square equals to 1. This is because large magnitude of loadings may lead to large variance. It also defines the direction of the principal component ($Z¹$) along which data varies the most. It results in a line in $p$ dimensional space which is closest to the $n$ observations. Closeness is measured using average squared euclidean distance.\n",
    "* $X¹..Xp$ are normalized predictors. Normalized predictors have mean equals to zero and standard deviation equals to one.\n",
    "\n",
    "Therefore, First principal component is a linear combination of original predictor variables which captures the maximum variance in the data set. It determines the direction of highest variability in the data. Larger the variability captured in first component, larger the information captured by component. No other component can have variability higher than first principal component. The first principal component results in a line which is closest to the data i.e. it minimizes the sum of squared distance between a data point and the line.\n",
    "\n",
    "### Second principal component\n",
    "\n",
    "Similarly, we can compute the second principal component also.\n",
    "\n",
    "Second principal component ($Z²$) is also a linear combination of original predictors which captures the remaining variance in the data set and is uncorrelated with $Z¹$. In other words, the correlation between first and second component should is zero. It can be represented as:\n",
    "\n",
    "$$ Z² = Φ¹²X¹ + Φ²²X² + Φ³²X³ + .... + Φp2Xp $$\n",
    "\n",
    "If the two components are uncorrelated, their directions should be orthogonal (image below). This image is based on a simulated data with 2 predictors. Notice the direction of the components, as expected they are orthogonal. This suggests the correlation b/w these components in zero."
   ]
  },
  {
   "cell_type": "markdown",
   "metadata": {},
   "source": [
    "![title](img/Capture1.png)"
   ]
  },
  {
   "cell_type": "markdown",
   "metadata": {},
   "source": [
    "All succeeding principal component follows a similar concept i.e. they capture the remaining variation without being correlated with the previous component. In general, for n × p dimensional data, min(n-1, p) principal component can be constructed. The directions of these components are identified in an unsupervised way i.e. the response variable(Y) is not used to determine the component direction. Therefore, it is an unsupervised approach.\n",
    "\n",
    "*Note: Partial least square (PLS) is a supervised alternative to PCA. PLS assigns higher weight to variables which are strongly related to response variable to determine principal components.*"
   ]
  },
  {
   "cell_type": "markdown",
   "metadata": {},
   "source": [
    "# Why is normalization of variables necessary?\n",
    "\n",
    "The principal components are supplied with normalized version of original predictors. This is because, the original predictors may have different scales. For example: Imagine a data set with variables’ measuring units as gallons, kilometers, light years etc. It is definite that the scale of variances in these variables will be large.\n",
    "\n",
    "Performing PCA on un-normalized variables will lead to insanely large loadings for variables with high variance. In turn, this will lead to dependence of a principal component on the variable with high variance. This is undesirable.\n",
    "\n",
    "As shown in image below, PCA was run on a data set twice (with unscaled and scaled predictors). This data set has ~40 variables. You can see, first principal component is dominated by a variable Item_MRP. And, second principal component is dominated by a variable Item_Weight. This domination prevails due to high value of variance associated with a variable. When the variables are scaled, we get a much better representation of variables in 2D space."
   ]
  },
  {
   "cell_type": "markdown",
   "metadata": {},
   "source": [
    "![title](img/Capture2.png)"
   ]
  },
  {
   "cell_type": "markdown",
   "metadata": {},
   "source": [
    "# Implementation in R\n",
    "\n",
    "* How many principal components to choose? I could dive deep in theory, but it would be better to answer these question practically.\n",
    "* Remember, PCA can be applied only on numerical data. Therefore, if the data has categorical variables they must be converted to numerical.\n",
    "* Also, make sure you have done the basic data cleaning prior to implementing this technique."
   ]
  },
  {
   "cell_type": "markdown",
   "metadata": {},
   "source": [
    "## Read data"
   ]
  },
  {
   "cell_type": "code",
   "execution_count": 2,
   "metadata": {},
   "outputs": [],
   "source": [
    "path = \"C:\\\\Users\\\\garciaj\\\\Desktop\\\\LOOKUP\\\\PCA\"\n",
    "setwd(path)\n",
    "train = read.csv(\"Train_UWu5bXk.csv\")\n",
    "test = read.csv(\"Test_u94Q5KV.csv\")"
   ]
  },
  {
   "cell_type": "code",
   "execution_count": 3,
   "metadata": {
    "scrolled": true
   },
   "outputs": [
    {
     "data": {
      "text/html": [
       "<table>\n",
       "<thead><tr><th scope=col>Item_Identifier</th><th scope=col>Item_Weight</th><th scope=col>Item_Fat_Content</th><th scope=col>Item_Visibility</th><th scope=col>Item_Type</th><th scope=col>Item_MRP</th><th scope=col>Outlet_Identifier</th><th scope=col>Outlet_Establishment_Year</th><th scope=col>Outlet_Size</th><th scope=col>Outlet_Location_Type</th><th scope=col>Outlet_Type</th><th scope=col>Item_Outlet_Sales</th></tr></thead>\n",
       "<tbody>\n",
       "\t<tr><td>FDA15                </td><td> 9.300               </td><td>Low Fat              </td><td>0.01604730           </td><td>Dairy                </td><td>249.8092             </td><td>OUT049               </td><td>1999                 </td><td>Medium               </td><td>Tier 1               </td><td>Supermarket Type1    </td><td>3735.1380            </td></tr>\n",
       "\t<tr><td>DRC01                </td><td> 5.920               </td><td>Regular              </td><td>0.01927822           </td><td>Soft Drinks          </td><td> 48.2692             </td><td>OUT018               </td><td>2009                 </td><td>Medium               </td><td>Tier 3               </td><td>Supermarket Type2    </td><td> 443.4228            </td></tr>\n",
       "\t<tr><td>FDN15                </td><td>17.500               </td><td>Low Fat              </td><td>0.01676007           </td><td>Meat                 </td><td>141.6180             </td><td>OUT049               </td><td>1999                 </td><td>Medium               </td><td>Tier 1               </td><td>Supermarket Type1    </td><td>2097.2700            </td></tr>\n",
       "\t<tr><td>FDX07                </td><td>19.200               </td><td>Regular              </td><td>0.00000000           </td><td>Fruits and Vegetables</td><td>182.0950             </td><td>OUT010               </td><td>1998                 </td><td>                     </td><td>Tier 3               </td><td>Grocery Store        </td><td> 732.3800            </td></tr>\n",
       "\t<tr><td>NCD19                </td><td> 8.930               </td><td>Low Fat              </td><td>0.00000000           </td><td>Household            </td><td> 53.8614             </td><td>OUT013               </td><td>1987                 </td><td>High                 </td><td>Tier 3               </td><td>Supermarket Type1    </td><td> 994.7052            </td></tr>\n",
       "\t<tr><td>FDP36                </td><td>10.395               </td><td>Regular              </td><td>0.00000000           </td><td>Baking Goods         </td><td> 51.4008             </td><td>OUT018               </td><td>2009                 </td><td>Medium               </td><td>Tier 3               </td><td>Supermarket Type2    </td><td> 556.6088            </td></tr>\n",
       "</tbody>\n",
       "</table>\n"
      ],
      "text/latex": [
       "\\begin{tabular}{r|llllllllllll}\n",
       " Item\\_Identifier & Item\\_Weight & Item\\_Fat\\_Content & Item\\_Visibility & Item\\_Type & Item\\_MRP & Outlet\\_Identifier & Outlet\\_Establishment\\_Year & Outlet\\_Size & Outlet\\_Location\\_Type & Outlet\\_Type & Item\\_Outlet\\_Sales\\\\\n",
       "\\hline\n",
       "\t FDA15                 &  9.300                & Low Fat               & 0.01604730            & Dairy                 & 249.8092              & OUT049                & 1999                  & Medium                & Tier 1                & Supermarket Type1     & 3735.1380            \\\\\n",
       "\t DRC01                 &  5.920                & Regular               & 0.01927822            & Soft Drinks           &  48.2692              & OUT018                & 2009                  & Medium                & Tier 3                & Supermarket Type2     &  443.4228            \\\\\n",
       "\t FDN15                 & 17.500                & Low Fat               & 0.01676007            & Meat                  & 141.6180              & OUT049                & 1999                  & Medium                & Tier 1                & Supermarket Type1     & 2097.2700            \\\\\n",
       "\t FDX07                 & 19.200                & Regular               & 0.00000000            & Fruits and Vegetables & 182.0950              & OUT010                & 1998                  &                       & Tier 3                & Grocery Store         &  732.3800            \\\\\n",
       "\t NCD19                 &  8.930                & Low Fat               & 0.00000000            & Household             &  53.8614              & OUT013                & 1987                  & High                  & Tier 3                & Supermarket Type1     &  994.7052            \\\\\n",
       "\t FDP36                 & 10.395                & Regular               & 0.00000000            & Baking Goods          &  51.4008              & OUT018                & 2009                  & Medium                & Tier 3                & Supermarket Type2     &  556.6088            \\\\\n",
       "\\end{tabular}\n"
      ],
      "text/markdown": [
       "\n",
       "| Item_Identifier | Item_Weight | Item_Fat_Content | Item_Visibility | Item_Type | Item_MRP | Outlet_Identifier | Outlet_Establishment_Year | Outlet_Size | Outlet_Location_Type | Outlet_Type | Item_Outlet_Sales |\n",
       "|---|---|---|---|---|---|---|---|---|---|---|---|\n",
       "| FDA15                 |  9.300                | Low Fat               | 0.01604730            | Dairy                 | 249.8092              | OUT049                | 1999                  | Medium                | Tier 1                | Supermarket Type1     | 3735.1380             |\n",
       "| DRC01                 |  5.920                | Regular               | 0.01927822            | Soft Drinks           |  48.2692              | OUT018                | 2009                  | Medium                | Tier 3                | Supermarket Type2     |  443.4228             |\n",
       "| FDN15                 | 17.500                | Low Fat               | 0.01676007            | Meat                  | 141.6180              | OUT049                | 1999                  | Medium                | Tier 1                | Supermarket Type1     | 2097.2700             |\n",
       "| FDX07                 | 19.200                | Regular               | 0.00000000            | Fruits and Vegetables | 182.0950              | OUT010                | 1998                  |                       | Tier 3                | Grocery Store         |  732.3800             |\n",
       "| NCD19                 |  8.930                | Low Fat               | 0.00000000            | Household             |  53.8614              | OUT013                | 1987                  | High                  | Tier 3                | Supermarket Type1     |  994.7052             |\n",
       "| FDP36                 | 10.395                | Regular               | 0.00000000            | Baking Goods          |  51.4008              | OUT018                | 2009                  | Medium                | Tier 3                | Supermarket Type2     |  556.6088             |\n",
       "\n"
      ],
      "text/plain": [
       "  Item_Identifier Item_Weight Item_Fat_Content Item_Visibility\n",
       "1 FDA15            9.300      Low Fat          0.01604730     \n",
       "2 DRC01            5.920      Regular          0.01927822     \n",
       "3 FDN15           17.500      Low Fat          0.01676007     \n",
       "4 FDX07           19.200      Regular          0.00000000     \n",
       "5 NCD19            8.930      Low Fat          0.00000000     \n",
       "6 FDP36           10.395      Regular          0.00000000     \n",
       "  Item_Type             Item_MRP Outlet_Identifier Outlet_Establishment_Year\n",
       "1 Dairy                 249.8092 OUT049            1999                     \n",
       "2 Soft Drinks            48.2692 OUT018            2009                     \n",
       "3 Meat                  141.6180 OUT049            1999                     \n",
       "4 Fruits and Vegetables 182.0950 OUT010            1998                     \n",
       "5 Household              53.8614 OUT013            1987                     \n",
       "6 Baking Goods           51.4008 OUT018            2009                     \n",
       "  Outlet_Size Outlet_Location_Type Outlet_Type       Item_Outlet_Sales\n",
       "1 Medium      Tier 1               Supermarket Type1 3735.1380        \n",
       "2 Medium      Tier 3               Supermarket Type2  443.4228        \n",
       "3 Medium      Tier 1               Supermarket Type1 2097.2700        \n",
       "4             Tier 3               Grocery Store      732.3800        \n",
       "5 High        Tier 3               Supermarket Type1  994.7052        \n",
       "6 Medium      Tier 3               Supermarket Type2  556.6088        "
      ]
     },
     "metadata": {},
     "output_type": "display_data"
    }
   ],
   "source": [
    "head(train)"
   ]
  },
  {
   "cell_type": "markdown",
   "metadata": {},
   "source": [
    "## Quick data cleaning"
   ]
  },
  {
   "cell_type": "code",
   "execution_count": 4,
   "metadata": {},
   "outputs": [
    {
     "data": {
      "text/html": [
       "<table>\n",
       "<thead><tr><th scope=col>Item_Identifier</th><th scope=col>Item_Weight</th><th scope=col>Item_Fat_Content</th><th scope=col>Item_Visibility</th><th scope=col>Item_Type</th><th scope=col>Item_MRP</th><th scope=col>Outlet_Identifier</th><th scope=col>Outlet_Establishment_Year</th><th scope=col>Outlet_Size</th><th scope=col>Outlet_Location_Type</th><th scope=col>Outlet_Type</th><th scope=col>Item_Outlet_Sales</th></tr></thead>\n",
       "<tbody>\n",
       "\t<tr><td>FDA15                </td><td> 9.300               </td><td>Low Fat              </td><td>0.01604730           </td><td>Dairy                </td><td>249.8092             </td><td>OUT049               </td><td>1999                 </td><td>Medium               </td><td>Tier 1               </td><td>Supermarket Type1    </td><td>3735.1380            </td></tr>\n",
       "\t<tr><td>DRC01                </td><td> 5.920               </td><td>Regular              </td><td>0.01927822           </td><td>Soft Drinks          </td><td> 48.2692             </td><td>OUT018               </td><td>2009                 </td><td>Medium               </td><td>Tier 3               </td><td>Supermarket Type2    </td><td> 443.4228            </td></tr>\n",
       "\t<tr><td>FDN15                </td><td>17.500               </td><td>Low Fat              </td><td>0.01676007           </td><td>Meat                 </td><td>141.6180             </td><td>OUT049               </td><td>1999                 </td><td>Medium               </td><td>Tier 1               </td><td>Supermarket Type1    </td><td>2097.2700            </td></tr>\n",
       "\t<tr><td>FDX07                </td><td>19.200               </td><td>Regular              </td><td>0.05402054           </td><td>Fruits and Vegetables</td><td>182.0950             </td><td>OUT010               </td><td>1998                 </td><td>                     </td><td>Tier 3               </td><td>Grocery Store        </td><td> 732.3800            </td></tr>\n",
       "\t<tr><td>NCD19                </td><td> 8.930               </td><td>Low Fat              </td><td>0.05402054           </td><td>Household            </td><td> 53.8614             </td><td>OUT013               </td><td>1987                 </td><td>High                 </td><td>Tier 3               </td><td>Supermarket Type1    </td><td> 994.7052            </td></tr>\n",
       "\t<tr><td>FDP36                </td><td>10.395               </td><td>Regular              </td><td>0.05402054           </td><td>Baking Goods         </td><td> 51.4008             </td><td>OUT018               </td><td>2009                 </td><td>Medium               </td><td>Tier 3               </td><td>Supermarket Type2    </td><td> 556.6088            </td></tr>\n",
       "</tbody>\n",
       "</table>\n"
      ],
      "text/latex": [
       "\\begin{tabular}{r|llllllllllll}\n",
       " Item\\_Identifier & Item\\_Weight & Item\\_Fat\\_Content & Item\\_Visibility & Item\\_Type & Item\\_MRP & Outlet\\_Identifier & Outlet\\_Establishment\\_Year & Outlet\\_Size & Outlet\\_Location\\_Type & Outlet\\_Type & Item\\_Outlet\\_Sales\\\\\n",
       "\\hline\n",
       "\t FDA15                 &  9.300                & Low Fat               & 0.01604730            & Dairy                 & 249.8092              & OUT049                & 1999                  & Medium                & Tier 1                & Supermarket Type1     & 3735.1380            \\\\\n",
       "\t DRC01                 &  5.920                & Regular               & 0.01927822            & Soft Drinks           &  48.2692              & OUT018                & 2009                  & Medium                & Tier 3                & Supermarket Type2     &  443.4228            \\\\\n",
       "\t FDN15                 & 17.500                & Low Fat               & 0.01676007            & Meat                  & 141.6180              & OUT049                & 1999                  & Medium                & Tier 1                & Supermarket Type1     & 2097.2700            \\\\\n",
       "\t FDX07                 & 19.200                & Regular               & 0.05402054            & Fruits and Vegetables & 182.0950              & OUT010                & 1998                  &                       & Tier 3                & Grocery Store         &  732.3800            \\\\\n",
       "\t NCD19                 &  8.930                & Low Fat               & 0.05402054            & Household             &  53.8614              & OUT013                & 1987                  & High                  & Tier 3                & Supermarket Type1     &  994.7052            \\\\\n",
       "\t FDP36                 & 10.395                & Regular               & 0.05402054            & Baking Goods          &  51.4008              & OUT018                & 2009                  & Medium                & Tier 3                & Supermarket Type2     &  556.6088            \\\\\n",
       "\\end{tabular}\n"
      ],
      "text/markdown": [
       "\n",
       "| Item_Identifier | Item_Weight | Item_Fat_Content | Item_Visibility | Item_Type | Item_MRP | Outlet_Identifier | Outlet_Establishment_Year | Outlet_Size | Outlet_Location_Type | Outlet_Type | Item_Outlet_Sales |\n",
       "|---|---|---|---|---|---|---|---|---|---|---|---|\n",
       "| FDA15                 |  9.300                | Low Fat               | 0.01604730            | Dairy                 | 249.8092              | OUT049                | 1999                  | Medium                | Tier 1                | Supermarket Type1     | 3735.1380             |\n",
       "| DRC01                 |  5.920                | Regular               | 0.01927822            | Soft Drinks           |  48.2692              | OUT018                | 2009                  | Medium                | Tier 3                | Supermarket Type2     |  443.4228             |\n",
       "| FDN15                 | 17.500                | Low Fat               | 0.01676007            | Meat                  | 141.6180              | OUT049                | 1999                  | Medium                | Tier 1                | Supermarket Type1     | 2097.2700             |\n",
       "| FDX07                 | 19.200                | Regular               | 0.05402054            | Fruits and Vegetables | 182.0950              | OUT010                | 1998                  |                       | Tier 3                | Grocery Store         |  732.3800             |\n",
       "| NCD19                 |  8.930                | Low Fat               | 0.05402054            | Household             |  53.8614              | OUT013                | 1987                  | High                  | Tier 3                | Supermarket Type1     |  994.7052             |\n",
       "| FDP36                 | 10.395                | Regular               | 0.05402054            | Baking Goods          |  51.4008              | OUT018                | 2009                  | Medium                | Tier 3                | Supermarket Type2     |  556.6088             |\n",
       "\n"
      ],
      "text/plain": [
       "  Item_Identifier Item_Weight Item_Fat_Content Item_Visibility\n",
       "1 FDA15            9.300      Low Fat          0.01604730     \n",
       "2 DRC01            5.920      Regular          0.01927822     \n",
       "3 FDN15           17.500      Low Fat          0.01676007     \n",
       "4 FDX07           19.200      Regular          0.05402054     \n",
       "5 NCD19            8.930      Low Fat          0.05402054     \n",
       "6 FDP36           10.395      Regular          0.05402054     \n",
       "  Item_Type             Item_MRP Outlet_Identifier Outlet_Establishment_Year\n",
       "1 Dairy                 249.8092 OUT049            1999                     \n",
       "2 Soft Drinks            48.2692 OUT018            2009                     \n",
       "3 Meat                  141.6180 OUT049            1999                     \n",
       "4 Fruits and Vegetables 182.0950 OUT010            1998                     \n",
       "5 Household              53.8614 OUT013            1987                     \n",
       "6 Baking Goods           51.4008 OUT018            2009                     \n",
       "  Outlet_Size Outlet_Location_Type Outlet_Type       Item_Outlet_Sales\n",
       "1 Medium      Tier 1               Supermarket Type1 3735.1380        \n",
       "2 Medium      Tier 3               Supermarket Type2  443.4228        \n",
       "3 Medium      Tier 1               Supermarket Type1 2097.2700        \n",
       "4             Tier 3               Grocery Store      732.3800        \n",
       "5 High        Tier 3               Supermarket Type1  994.7052        \n",
       "6 Medium      Tier 3               Supermarket Type2  556.6088        "
      ]
     },
     "metadata": {},
     "output_type": "display_data"
    }
   ],
   "source": [
    "#add a column\n",
    "test$Item_Outlet_Sales = 1\n",
    "\n",
    "#combine the data set\n",
    "combi = rbind(train, test)\n",
    "\n",
    "#impute missing values with median\n",
    "combi$Item_Weight[is.na(combi$Item_Weight)] = median(combi$Item_Weight, na.rm = TRUE)\n",
    "\n",
    "#impute 0 with median\n",
    "combi$Item_Visibility = ifelse(combi$Item_Visibility == 0, median(combi$Item_Visibility), combi$Item_Visibility)\n",
    "\n",
    "#find mode and impute\n",
    "table(combi$Outlet_Size, combi$Outlet_Type)\n",
    "levels(combi$Outlet_Size)[1] = \"Other\""
   ]
  },
  {
   "cell_type": "code",
   "execution_count": 6,
   "metadata": {},
   "outputs": [
    {
     "data": {
      "text/html": [
       "<table>\n",
       "<thead><tr><th scope=col>Item_Identifier</th><th scope=col>Item_Weight</th><th scope=col>Item_Fat_Content</th><th scope=col>Item_Visibility</th><th scope=col>Item_Type</th><th scope=col>Item_MRP</th><th scope=col>Outlet_Identifier</th><th scope=col>Outlet_Establishment_Year</th><th scope=col>Outlet_Size</th><th scope=col>Outlet_Location_Type</th><th scope=col>Outlet_Type</th><th scope=col>Item_Outlet_Sales</th></tr></thead>\n",
       "<tbody>\n",
       "\t<tr><td>FDA15                </td><td> 9.300               </td><td>Low Fat              </td><td>0.01604730           </td><td>Dairy                </td><td>249.8092             </td><td>OUT049               </td><td>1999                 </td><td>Medium               </td><td>Tier 1               </td><td>Supermarket Type1    </td><td>3735.1380            </td></tr>\n",
       "\t<tr><td>DRC01                </td><td> 5.920               </td><td>Regular              </td><td>0.01927822           </td><td>Soft Drinks          </td><td> 48.2692             </td><td>OUT018               </td><td>2009                 </td><td>Medium               </td><td>Tier 3               </td><td>Supermarket Type2    </td><td> 443.4228            </td></tr>\n",
       "\t<tr><td>FDN15                </td><td>17.500               </td><td>Low Fat              </td><td>0.01676007           </td><td>Meat                 </td><td>141.6180             </td><td>OUT049               </td><td>1999                 </td><td>Medium               </td><td>Tier 1               </td><td>Supermarket Type1    </td><td>2097.2700            </td></tr>\n",
       "\t<tr><td>FDX07                </td><td>19.200               </td><td>Regular              </td><td>0.05402054           </td><td>Fruits and Vegetables</td><td>182.0950             </td><td>OUT010               </td><td>1998                 </td><td>Other                </td><td>Tier 3               </td><td>Grocery Store        </td><td> 732.3800            </td></tr>\n",
       "\t<tr><td>NCD19                </td><td> 8.930               </td><td>Low Fat              </td><td>0.05402054           </td><td>Household            </td><td> 53.8614             </td><td>OUT013               </td><td>1987                 </td><td>High                 </td><td>Tier 3               </td><td>Supermarket Type1    </td><td> 994.7052            </td></tr>\n",
       "\t<tr><td>FDP36                </td><td>10.395               </td><td>Regular              </td><td>0.05402054           </td><td>Baking Goods         </td><td> 51.4008             </td><td>OUT018               </td><td>2009                 </td><td>Medium               </td><td>Tier 3               </td><td>Supermarket Type2    </td><td> 556.6088            </td></tr>\n",
       "</tbody>\n",
       "</table>\n"
      ],
      "text/latex": [
       "\\begin{tabular}{r|llllllllllll}\n",
       " Item\\_Identifier & Item\\_Weight & Item\\_Fat\\_Content & Item\\_Visibility & Item\\_Type & Item\\_MRP & Outlet\\_Identifier & Outlet\\_Establishment\\_Year & Outlet\\_Size & Outlet\\_Location\\_Type & Outlet\\_Type & Item\\_Outlet\\_Sales\\\\\n",
       "\\hline\n",
       "\t FDA15                 &  9.300                & Low Fat               & 0.01604730            & Dairy                 & 249.8092              & OUT049                & 1999                  & Medium                & Tier 1                & Supermarket Type1     & 3735.1380            \\\\\n",
       "\t DRC01                 &  5.920                & Regular               & 0.01927822            & Soft Drinks           &  48.2692              & OUT018                & 2009                  & Medium                & Tier 3                & Supermarket Type2     &  443.4228            \\\\\n",
       "\t FDN15                 & 17.500                & Low Fat               & 0.01676007            & Meat                  & 141.6180              & OUT049                & 1999                  & Medium                & Tier 1                & Supermarket Type1     & 2097.2700            \\\\\n",
       "\t FDX07                 & 19.200                & Regular               & 0.05402054            & Fruits and Vegetables & 182.0950              & OUT010                & 1998                  & Other                 & Tier 3                & Grocery Store         &  732.3800            \\\\\n",
       "\t NCD19                 &  8.930                & Low Fat               & 0.05402054            & Household             &  53.8614              & OUT013                & 1987                  & High                  & Tier 3                & Supermarket Type1     &  994.7052            \\\\\n",
       "\t FDP36                 & 10.395                & Regular               & 0.05402054            & Baking Goods          &  51.4008              & OUT018                & 2009                  & Medium                & Tier 3                & Supermarket Type2     &  556.6088            \\\\\n",
       "\\end{tabular}\n"
      ],
      "text/markdown": [
       "\n",
       "| Item_Identifier | Item_Weight | Item_Fat_Content | Item_Visibility | Item_Type | Item_MRP | Outlet_Identifier | Outlet_Establishment_Year | Outlet_Size | Outlet_Location_Type | Outlet_Type | Item_Outlet_Sales |\n",
       "|---|---|---|---|---|---|---|---|---|---|---|---|\n",
       "| FDA15                 |  9.300                | Low Fat               | 0.01604730            | Dairy                 | 249.8092              | OUT049                | 1999                  | Medium                | Tier 1                | Supermarket Type1     | 3735.1380             |\n",
       "| DRC01                 |  5.920                | Regular               | 0.01927822            | Soft Drinks           |  48.2692              | OUT018                | 2009                  | Medium                | Tier 3                | Supermarket Type2     |  443.4228             |\n",
       "| FDN15                 | 17.500                | Low Fat               | 0.01676007            | Meat                  | 141.6180              | OUT049                | 1999                  | Medium                | Tier 1                | Supermarket Type1     | 2097.2700             |\n",
       "| FDX07                 | 19.200                | Regular               | 0.05402054            | Fruits and Vegetables | 182.0950              | OUT010                | 1998                  | Other                 | Tier 3                | Grocery Store         |  732.3800             |\n",
       "| NCD19                 |  8.930                | Low Fat               | 0.05402054            | Household             |  53.8614              | OUT013                | 1987                  | High                  | Tier 3                | Supermarket Type1     |  994.7052             |\n",
       "| FDP36                 | 10.395                | Regular               | 0.05402054            | Baking Goods          |  51.4008              | OUT018                | 2009                  | Medium                | Tier 3                | Supermarket Type2     |  556.6088             |\n",
       "\n"
      ],
      "text/plain": [
       "  Item_Identifier Item_Weight Item_Fat_Content Item_Visibility\n",
       "1 FDA15            9.300      Low Fat          0.01604730     \n",
       "2 DRC01            5.920      Regular          0.01927822     \n",
       "3 FDN15           17.500      Low Fat          0.01676007     \n",
       "4 FDX07           19.200      Regular          0.05402054     \n",
       "5 NCD19            8.930      Low Fat          0.05402054     \n",
       "6 FDP36           10.395      Regular          0.05402054     \n",
       "  Item_Type             Item_MRP Outlet_Identifier Outlet_Establishment_Year\n",
       "1 Dairy                 249.8092 OUT049            1999                     \n",
       "2 Soft Drinks            48.2692 OUT018            2009                     \n",
       "3 Meat                  141.6180 OUT049            1999                     \n",
       "4 Fruits and Vegetables 182.0950 OUT010            1998                     \n",
       "5 Household              53.8614 OUT013            1987                     \n",
       "6 Baking Goods           51.4008 OUT018            2009                     \n",
       "  Outlet_Size Outlet_Location_Type Outlet_Type       Item_Outlet_Sales\n",
       "1 Medium      Tier 1               Supermarket Type1 3735.1380        \n",
       "2 Medium      Tier 3               Supermarket Type2  443.4228        \n",
       "3 Medium      Tier 1               Supermarket Type1 2097.2700        \n",
       "4 Other       Tier 3               Grocery Store      732.3800        \n",
       "5 High        Tier 3               Supermarket Type1  994.7052        \n",
       "6 Medium      Tier 3               Supermarket Type2  556.6088        "
      ]
     },
     "metadata": {},
     "output_type": "display_data"
    }
   ],
   "source": [
    "head(combi)"
   ]
  },
  {
   "cell_type": "markdown",
   "metadata": {},
   "source": [
    "## Remove response variable"
   ]
  },
  {
   "cell_type": "markdown",
   "metadata": {},
   "source": [
    "Till here, we’ve imputed missing values. Now we are left with removing the dependent (response) variable and other identifier variables (if any). As we said above, we are practicing an unsupervised learning technique, hence response variable must be removed."
   ]
  },
  {
   "cell_type": "code",
   "execution_count": 7,
   "metadata": {},
   "outputs": [],
   "source": [
    "#remove the dependent and identifier variables\n",
    "my_data = subset(combi, select = -c(Item_Outlet_Sales, Item_Identifier, Outlet_Identifier))"
   ]
  },
  {
   "cell_type": "markdown",
   "metadata": {},
   "source": [
    "## One-Hot encode categorical variables"
   ]
  },
  {
   "cell_type": "markdown",
   "metadata": {},
   "source": [
    "Let’s check the available variables (a.k.a predictors) in the data set."
   ]
  },
  {
   "cell_type": "code",
   "execution_count": 8,
   "metadata": {},
   "outputs": [
    {
     "name": "stdout",
     "output_type": "stream",
     "text": [
      "'data.frame':\t14204 obs. of  9 variables:\n",
      " $ Item_Weight              : num  9.3 5.92 17.5 19.2 8.93 ...\n",
      " $ Item_Fat_Content         : Factor w/ 5 levels \"LF\",\"low fat\",..: 3 5 3 5 3 5 5 3 5 5 ...\n",
      " $ Item_Visibility          : num  0.016 0.0193 0.0168 0.054 0.054 ...\n",
      " $ Item_Type                : Factor w/ 16 levels \"Baking Goods\",..: 5 15 11 7 10 1 14 14 6 6 ...\n",
      " $ Item_MRP                 : num  249.8 48.3 141.6 182.1 53.9 ...\n",
      " $ Outlet_Establishment_Year: int  1999 2009 1999 1998 1987 2009 1987 1985 2002 2007 ...\n",
      " $ Outlet_Size              : Factor w/ 4 levels \"Other\",\"High\",..: 3 3 3 1 2 3 2 3 1 1 ...\n",
      " $ Outlet_Location_Type     : Factor w/ 3 levels \"Tier 1\",\"Tier 2\",..: 1 3 1 3 3 3 3 3 2 2 ...\n",
      " $ Outlet_Type              : Factor w/ 4 levels \"Grocery Store\",..: 2 3 2 1 2 3 2 4 2 2 ...\n"
     ]
    }
   ],
   "source": [
    "str(my_data)"
   ]
  },
  {
   "cell_type": "code",
   "execution_count": 12,
   "metadata": {},
   "outputs": [
    {
     "name": "stdout",
     "output_type": "stream",
     "text": [
      "'data.frame':\t14204 obs. of  44 variables:\n",
      " $ Item_Weight                   : num  9.3 5.92 17.5 19.2 8.93 ...\n",
      " $ Item_Fat_ContentLF            : int  0 0 0 0 0 0 0 0 0 0 ...\n",
      " $ Item_Fat_Contentlow fat       : int  0 0 0 0 0 0 0 0 0 0 ...\n",
      " $ Item_Fat_ContentLow Fat       : int  1 0 1 0 1 0 0 1 0 0 ...\n",
      " $ Item_Fat_Contentreg           : int  0 0 0 0 0 0 0 0 0 0 ...\n",
      " $ Item_Fat_ContentRegular       : int  0 1 0 1 0 1 1 0 1 1 ...\n",
      " $ Item_Visibility               : num  0.016 0.0193 0.0168 0.054 0.054 ...\n",
      " $ Item_TypeBaking Goods         : int  0 0 0 0 0 1 0 0 0 0 ...\n",
      " $ Item_TypeBreads               : int  0 0 0 0 0 0 0 0 0 0 ...\n",
      " $ Item_TypeBreakfast            : int  0 0 0 0 0 0 0 0 0 0 ...\n",
      " $ Item_TypeCanned               : int  0 0 0 0 0 0 0 0 0 0 ...\n",
      " $ Item_TypeDairy                : int  1 0 0 0 0 0 0 0 0 0 ...\n",
      " $ Item_TypeFrozen Foods         : int  0 0 0 0 0 0 0 0 1 1 ...\n",
      " $ Item_TypeFruits and Vegetables: int  0 0 0 1 0 0 0 0 0 0 ...\n",
      " $ Item_TypeHard Drinks          : int  0 0 0 0 0 0 0 0 0 0 ...\n",
      " $ Item_TypeHealth and Hygiene   : int  0 0 0 0 0 0 0 0 0 0 ...\n",
      " $ Item_TypeHousehold            : int  0 0 0 0 1 0 0 0 0 0 ...\n",
      " $ Item_TypeMeat                 : int  0 0 1 0 0 0 0 0 0 0 ...\n",
      " $ Item_TypeOthers               : int  0 0 0 0 0 0 0 0 0 0 ...\n",
      " $ Item_TypeSeafood              : int  0 0 0 0 0 0 0 0 0 0 ...\n",
      " $ Item_TypeSnack Foods          : int  0 0 0 0 0 0 1 1 0 0 ...\n",
      " $ Item_TypeSoft Drinks          : int  0 1 0 0 0 0 0 0 0 0 ...\n",
      " $ Item_TypeStarchy Foods        : int  0 0 0 0 0 0 0 0 0 0 ...\n",
      " $ Item_MRP                      : num  249.8 48.3 141.6 182.1 53.9 ...\n",
      " $ Outlet_Establishment_Year1985 : int  0 0 0 0 0 0 0 1 0 0 ...\n",
      " $ Outlet_Establishment_Year1987 : int  0 0 0 0 1 0 1 0 0 0 ...\n",
      " $ Outlet_Establishment_Year1997 : int  0 0 0 0 0 0 0 0 0 0 ...\n",
      " $ Outlet_Establishment_Year1998 : int  0 0 0 1 0 0 0 0 0 0 ...\n",
      " $ Outlet_Establishment_Year1999 : int  1 0 1 0 0 0 0 0 0 0 ...\n",
      " $ Outlet_Establishment_Year2002 : int  0 0 0 0 0 0 0 0 1 0 ...\n",
      " $ Outlet_Establishment_Year2004 : int  0 0 0 0 0 0 0 0 0 0 ...\n",
      " $ Outlet_Establishment_Year2007 : int  0 0 0 0 0 0 0 0 0 1 ...\n",
      " $ Outlet_Establishment_Year2009 : int  0 1 0 0 0 1 0 0 0 0 ...\n",
      " $ Outlet_SizeOther              : int  0 0 0 1 0 0 0 0 1 1 ...\n",
      " $ Outlet_SizeHigh               : int  0 0 0 0 1 0 1 0 0 0 ...\n",
      " $ Outlet_SizeMedium             : int  1 1 1 0 0 1 0 1 0 0 ...\n",
      " $ Outlet_SizeSmall              : int  0 0 0 0 0 0 0 0 0 0 ...\n",
      " $ Outlet_Location_TypeTier 1    : int  1 0 1 0 0 0 0 0 0 0 ...\n",
      " $ Outlet_Location_TypeTier 2    : int  0 0 0 0 0 0 0 0 1 1 ...\n",
      " $ Outlet_Location_TypeTier 3    : int  0 1 0 1 1 1 1 1 0 0 ...\n",
      " $ Outlet_TypeGrocery Store      : int  0 0 0 1 0 0 0 0 0 0 ...\n",
      " $ Outlet_TypeSupermarket Type1  : int  1 0 1 0 1 0 1 0 1 1 ...\n",
      " $ Outlet_TypeSupermarket Type2  : int  0 1 0 0 0 1 0 0 0 0 ...\n",
      " $ Outlet_TypeSupermarket Type3  : int  0 0 0 0 0 0 0 1 0 0 ...\n",
      " - attr(*, \"dummies\")=List of 6\n",
      "  ..$ Item_Fat_Content         : int  2 3 4 5 6\n",
      "  ..$ Item_Type                : int  8 9 10 11 12 13 14 15 16 17 ...\n",
      "  ..$ Outlet_Establishment_Year: int  25 26 27 28 29 30 31 32 33\n",
      "  ..$ Outlet_Size              : int  34 35 36 37\n",
      "  ..$ Outlet_Location_Type     : int  38 39 40\n",
      "  ..$ Outlet_Type              : int  41 42 43 44\n"
     ]
    }
   ],
   "source": [
    "library(dummies)\n",
    "\n",
    "#create a dummy data frame\n",
    "new_my_data = dummy.data.frame(my_data, names = c(\"Item_Fat_Content\",\"Item_Type\",\n",
    "                                \"Outlet_Establishment_Year\",\"Outlet_Size\",\n",
    "                                \"Outlet_Location_Type\",\"Outlet_Type\"))\n",
    "str(new_my_data)"
   ]
  },
  {
   "cell_type": "markdown",
   "metadata": {},
   "source": [
    "## Divide the data in train and test"
   ]
  },
  {
   "cell_type": "code",
   "execution_count": 13,
   "metadata": {},
   "outputs": [],
   "source": [
    "#divide the new data\n",
    "pca.train = new_my_data[1:nrow(train),]\n",
    "pca.test = new_my_data[-(1:nrow(train)),]"
   ]
  },
  {
   "cell_type": "markdown",
   "metadata": {},
   "source": [
    "## prcomp() function\n",
    "\n",
    "he base R function **prcomp()** is used to perform PCA. By default, it centers the variable to have mean equals to zero. With parameter **scale. = T**, we normalize the variables to have standard deviation equals to 1."
   ]
  },
  {
   "cell_type": "code",
   "execution_count": 14,
   "metadata": {},
   "outputs": [
    {
     "data": {
      "text/html": [
       "<ol class=list-inline>\n",
       "\t<li>'sdev'</li>\n",
       "\t<li>'rotation'</li>\n",
       "\t<li>'center'</li>\n",
       "\t<li>'scale'</li>\n",
       "\t<li>'x'</li>\n",
       "</ol>\n"
      ],
      "text/latex": [
       "\\begin{enumerate*}\n",
       "\\item 'sdev'\n",
       "\\item 'rotation'\n",
       "\\item 'center'\n",
       "\\item 'scale'\n",
       "\\item 'x'\n",
       "\\end{enumerate*}\n"
      ],
      "text/markdown": [
       "1. 'sdev'\n",
       "2. 'rotation'\n",
       "3. 'center'\n",
       "4. 'scale'\n",
       "5. 'x'\n",
       "\n",
       "\n"
      ],
      "text/plain": [
       "[1] \"sdev\"     \"rotation\" \"center\"   \"scale\"    \"x\"       "
      ]
     },
     "metadata": {},
     "output_type": "display_data"
    }
   ],
   "source": [
    "#principal component analysis\n",
    "prin_comp = prcomp(pca.train, scale. = T)\n",
    "names(prin_comp)"
   ]
  },
  {
   "cell_type": "markdown",
   "metadata": {},
   "source": [
    "### 5 useful measures from prcomp()\n",
    "\n",
    "* *Center* mean of the variables used for normalization prior to implementing PCA \n",
    "* *Scale* standard deviation of the variables used for normalization prior to implenting PCA \n",
    "* *Rotation* measure provides the principal component loading. Each column of rotation matrix contains the principal component loading vector. This is the most important measure we should be interested in.\n",
    "* In order to compute the principal component score vector, we don’t need to multiply the loading with data. Rather, the matrix *x* has the principal component score vectors in a 8523 × 44 dimension.\n",
    "* The prcomp() function also provides the facility to compute standard deviation of each principal component. *sdev* refers to the standard deviation of principal components."
   ]
  },
  {
   "cell_type": "markdown",
   "metadata": {},
   "source": [
    "#### Center"
   ]
  },
  {
   "cell_type": "code",
   "execution_count": 15,
   "metadata": {
    "scrolled": true
   },
   "outputs": [
    {
     "data": {
      "text/html": [
       "<dl class=dl-horizontal>\n",
       "\t<dt>Item_Weight</dt>\n",
       "\t\t<dd>12.8134195705737</dd>\n",
       "\t<dt>Item_Fat_ContentLF</dt>\n",
       "\t\t<dd>0.0370761468966326</dd>\n",
       "\t<dt>Item_Fat_Contentlow fat</dt>\n",
       "\t\t<dd>0.013140912824123</dd>\n",
       "\t<dt>Item_Fat_ContentLow Fat</dt>\n",
       "\t\t<dd>0.597090226446087</dd>\n",
       "\t<dt>Item_Fat_Contentreg</dt>\n",
       "\t\t<dd>0.013727560718057</dd>\n",
       "\t<dt>Item_Fat_ContentRegular</dt>\n",
       "\t\t<dd>0.3389651531151</dd>\n",
       "\t<dt>Item_Visibility</dt>\n",
       "\t\t<dd>0.0694659255522703</dd>\n",
       "\t<dt>Item_TypeBaking Goods</dt>\n",
       "\t\t<dd>0.0760295670538543</dd>\n",
       "\t<dt>Item_TypeBreads</dt>\n",
       "\t\t<dd>0.0294497242754898</dd>\n",
       "\t<dt>Item_TypeBreakfast</dt>\n",
       "\t\t<dd>0.0129062536665493</dd>\n",
       "\t<dt>Item_TypeCanned</dt>\n",
       "\t\t<dd>0.0761468966326411</dd>\n",
       "\t<dt>Item_TypeDairy</dt>\n",
       "\t\t<dd>0.0800187727326059</dd>\n",
       "\t<dt>Item_TypeFrozen Foods</dt>\n",
       "\t\t<dd>0.100434119441511</dd>\n",
       "\t<dt>Item_TypeFruits and Vegetables</dt>\n",
       "\t\t<dd>0.144550041065353</dd>\n",
       "\t<dt>Item_TypeHard Drinks</dt>\n",
       "\t\t<dd>0.0251085298603778</dd>\n",
       "\t<dt>Item_TypeHealth and Hygiene</dt>\n",
       "\t\t<dd>0.0610113809691423</dd>\n",
       "\t<dt>Item_TypeHousehold</dt>\n",
       "\t\t<dd>0.106769916695999</dd>\n",
       "\t<dt>Item_TypeMeat</dt>\n",
       "\t\t<dd>0.0498650709843952</dd>\n",
       "\t<dt>Item_TypeOthers</dt>\n",
       "\t\t<dd>0.0198286988149713</dd>\n",
       "\t<dt>Item_TypeSeafood</dt>\n",
       "\t\t<dd>0.00750909304235598</dd>\n",
       "\t<dt>Item_TypeSnack Foods</dt>\n",
       "\t\t<dd>0.140795494544175</dd>\n",
       "\t<dt>Item_TypeSoft Drinks</dt>\n",
       "\t\t<dd>0.0522116625601314</dd>\n",
       "\t<dt>Item_TypeStarchy Foods</dt>\n",
       "\t\t<dd>0.0173647776604482</dd>\n",
       "\t<dt>Item_MRP</dt>\n",
       "\t\t<dd>140.992781978177</dd>\n",
       "\t<dt>Outlet_Establishment_Year1985</dt>\n",
       "\t\t<dd>0.171653173765106</dd>\n",
       "\t<dt>Outlet_Establishment_Year1987</dt>\n",
       "\t\t<dd>0.109351167429309</dd>\n",
       "\t<dt>Outlet_Establishment_Year1997</dt>\n",
       "\t\t<dd>0.109116508271735</dd>\n",
       "\t<dt>Outlet_Establishment_Year1998</dt>\n",
       "\t\t<dd>0.0651179162266807</dd>\n",
       "\t<dt>Outlet_Establishment_Year1999</dt>\n",
       "\t\t<dd>0.109116508271735</dd>\n",
       "\t<dt>Outlet_Establishment_Year2002</dt>\n",
       "\t\t<dd>0.108999178692948</dd>\n",
       "\t<dt>Outlet_Establishment_Year2004</dt>\n",
       "\t\t<dd>0.109116508271735</dd>\n",
       "\t<dt>Outlet_Establishment_Year2007</dt>\n",
       "\t\t<dd>0.108647189956588</dd>\n",
       "\t<dt>Outlet_Establishment_Year2009</dt>\n",
       "\t\t<dd>0.108881849114162</dd>\n",
       "\t<dt>Outlet_SizeOther</dt>\n",
       "\t\t<dd>0.282764284876217</dd>\n",
       "\t<dt>Outlet_SizeHigh</dt>\n",
       "\t\t<dd>0.109351167429309</dd>\n",
       "\t<dt>Outlet_SizeMedium</dt>\n",
       "\t\t<dd>0.327701513551566</dd>\n",
       "\t<dt>Outlet_SizeSmall</dt>\n",
       "\t\t<dd>0.280183034142907</dd>\n",
       "\t<dt>Outlet_Location_TypeTier 1</dt>\n",
       "\t\t<dd>0.280183034142907</dd>\n",
       "\t<dt>Outlet_Location_TypeTier 2</dt>\n",
       "\t\t<dd>0.326762876921272</dd>\n",
       "\t<dt>Outlet_Location_TypeTier 3</dt>\n",
       "\t\t<dd>0.393054088935821</dd>\n",
       "\t<dt>Outlet_TypeGrocery Store</dt>\n",
       "\t\t<dd>0.127067933826118</dd>\n",
       "\t<dt>Outlet_TypeSupermarket Type1</dt>\n",
       "\t\t<dd>0.654347060894051</dd>\n",
       "\t<dt>Outlet_TypeSupermarket Type2</dt>\n",
       "\t\t<dd>0.108881849114162</dd>\n",
       "\t<dt>Outlet_TypeSupermarket Type3</dt>\n",
       "\t\t<dd>0.109703156165669</dd>\n",
       "</dl>\n"
      ],
      "text/latex": [
       "\\begin{description*}\n",
       "\\item[Item\\textbackslash{}\\_Weight] 12.8134195705737\n",
       "\\item[Item\\textbackslash{}\\_Fat\\textbackslash{}\\_ContentLF] 0.0370761468966326\n",
       "\\item[Item\\textbackslash{}\\_Fat\\textbackslash{}\\_Contentlow fat] 0.013140912824123\n",
       "\\item[Item\\textbackslash{}\\_Fat\\textbackslash{}\\_ContentLow Fat] 0.597090226446087\n",
       "\\item[Item\\textbackslash{}\\_Fat\\textbackslash{}\\_Contentreg] 0.013727560718057\n",
       "\\item[Item\\textbackslash{}\\_Fat\\textbackslash{}\\_ContentRegular] 0.3389651531151\n",
       "\\item[Item\\textbackslash{}\\_Visibility] 0.0694659255522703\n",
       "\\item[Item\\textbackslash{}\\_TypeBaking Goods] 0.0760295670538543\n",
       "\\item[Item\\textbackslash{}\\_TypeBreads] 0.0294497242754898\n",
       "\\item[Item\\textbackslash{}\\_TypeBreakfast] 0.0129062536665493\n",
       "\\item[Item\\textbackslash{}\\_TypeCanned] 0.0761468966326411\n",
       "\\item[Item\\textbackslash{}\\_TypeDairy] 0.0800187727326059\n",
       "\\item[Item\\textbackslash{}\\_TypeFrozen Foods] 0.100434119441511\n",
       "\\item[Item\\textbackslash{}\\_TypeFruits and Vegetables] 0.144550041065353\n",
       "\\item[Item\\textbackslash{}\\_TypeHard Drinks] 0.0251085298603778\n",
       "\\item[Item\\textbackslash{}\\_TypeHealth and Hygiene] 0.0610113809691423\n",
       "\\item[Item\\textbackslash{}\\_TypeHousehold] 0.106769916695999\n",
       "\\item[Item\\textbackslash{}\\_TypeMeat] 0.0498650709843952\n",
       "\\item[Item\\textbackslash{}\\_TypeOthers] 0.0198286988149713\n",
       "\\item[Item\\textbackslash{}\\_TypeSeafood] 0.00750909304235598\n",
       "\\item[Item\\textbackslash{}\\_TypeSnack Foods] 0.140795494544175\n",
       "\\item[Item\\textbackslash{}\\_TypeSoft Drinks] 0.0522116625601314\n",
       "\\item[Item\\textbackslash{}\\_TypeStarchy Foods] 0.0173647776604482\n",
       "\\item[Item\\textbackslash{}\\_MRP] 140.992781978177\n",
       "\\item[Outlet\\textbackslash{}\\_Establishment\\textbackslash{}\\_Year1985] 0.171653173765106\n",
       "\\item[Outlet\\textbackslash{}\\_Establishment\\textbackslash{}\\_Year1987] 0.109351167429309\n",
       "\\item[Outlet\\textbackslash{}\\_Establishment\\textbackslash{}\\_Year1997] 0.109116508271735\n",
       "\\item[Outlet\\textbackslash{}\\_Establishment\\textbackslash{}\\_Year1998] 0.0651179162266807\n",
       "\\item[Outlet\\textbackslash{}\\_Establishment\\textbackslash{}\\_Year1999] 0.109116508271735\n",
       "\\item[Outlet\\textbackslash{}\\_Establishment\\textbackslash{}\\_Year2002] 0.108999178692948\n",
       "\\item[Outlet\\textbackslash{}\\_Establishment\\textbackslash{}\\_Year2004] 0.109116508271735\n",
       "\\item[Outlet\\textbackslash{}\\_Establishment\\textbackslash{}\\_Year2007] 0.108647189956588\n",
       "\\item[Outlet\\textbackslash{}\\_Establishment\\textbackslash{}\\_Year2009] 0.108881849114162\n",
       "\\item[Outlet\\textbackslash{}\\_SizeOther] 0.282764284876217\n",
       "\\item[Outlet\\textbackslash{}\\_SizeHigh] 0.109351167429309\n",
       "\\item[Outlet\\textbackslash{}\\_SizeMedium] 0.327701513551566\n",
       "\\item[Outlet\\textbackslash{}\\_SizeSmall] 0.280183034142907\n",
       "\\item[Outlet\\textbackslash{}\\_Location\\textbackslash{}\\_TypeTier 1] 0.280183034142907\n",
       "\\item[Outlet\\textbackslash{}\\_Location\\textbackslash{}\\_TypeTier 2] 0.326762876921272\n",
       "\\item[Outlet\\textbackslash{}\\_Location\\textbackslash{}\\_TypeTier 3] 0.393054088935821\n",
       "\\item[Outlet\\textbackslash{}\\_TypeGrocery Store] 0.127067933826118\n",
       "\\item[Outlet\\textbackslash{}\\_TypeSupermarket Type1] 0.654347060894051\n",
       "\\item[Outlet\\textbackslash{}\\_TypeSupermarket Type2] 0.108881849114162\n",
       "\\item[Outlet\\textbackslash{}\\_TypeSupermarket Type3] 0.109703156165669\n",
       "\\end{description*}\n"
      ],
      "text/markdown": [
       "Item_Weight\n",
       ":   12.8134195705737Item_Fat_ContentLF\n",
       ":   0.0370761468966326Item_Fat_Contentlow fat\n",
       ":   0.013140912824123Item_Fat_ContentLow Fat\n",
       ":   0.597090226446087Item_Fat_Contentreg\n",
       ":   0.013727560718057Item_Fat_ContentRegular\n",
       ":   0.3389651531151Item_Visibility\n",
       ":   0.0694659255522703Item_TypeBaking Goods\n",
       ":   0.0760295670538543Item_TypeBreads\n",
       ":   0.0294497242754898Item_TypeBreakfast\n",
       ":   0.0129062536665493Item_TypeCanned\n",
       ":   0.0761468966326411Item_TypeDairy\n",
       ":   0.0800187727326059Item_TypeFrozen Foods\n",
       ":   0.100434119441511Item_TypeFruits and Vegetables\n",
       ":   0.144550041065353Item_TypeHard Drinks\n",
       ":   0.0251085298603778Item_TypeHealth and Hygiene\n",
       ":   0.0610113809691423Item_TypeHousehold\n",
       ":   0.106769916695999Item_TypeMeat\n",
       ":   0.0498650709843952Item_TypeOthers\n",
       ":   0.0198286988149713Item_TypeSeafood\n",
       ":   0.00750909304235598Item_TypeSnack Foods\n",
       ":   0.140795494544175Item_TypeSoft Drinks\n",
       ":   0.0522116625601314Item_TypeStarchy Foods\n",
       ":   0.0173647776604482Item_MRP\n",
       ":   140.992781978177Outlet_Establishment_Year1985\n",
       ":   0.171653173765106Outlet_Establishment_Year1987\n",
       ":   0.109351167429309Outlet_Establishment_Year1997\n",
       ":   0.109116508271735Outlet_Establishment_Year1998\n",
       ":   0.0651179162266807Outlet_Establishment_Year1999\n",
       ":   0.109116508271735Outlet_Establishment_Year2002\n",
       ":   0.108999178692948Outlet_Establishment_Year2004\n",
       ":   0.109116508271735Outlet_Establishment_Year2007\n",
       ":   0.108647189956588Outlet_Establishment_Year2009\n",
       ":   0.108881849114162Outlet_SizeOther\n",
       ":   0.282764284876217Outlet_SizeHigh\n",
       ":   0.109351167429309Outlet_SizeMedium\n",
       ":   0.327701513551566Outlet_SizeSmall\n",
       ":   0.280183034142907Outlet_Location_TypeTier 1\n",
       ":   0.280183034142907Outlet_Location_TypeTier 2\n",
       ":   0.326762876921272Outlet_Location_TypeTier 3\n",
       ":   0.393054088935821Outlet_TypeGrocery Store\n",
       ":   0.127067933826118Outlet_TypeSupermarket Type1\n",
       ":   0.654347060894051Outlet_TypeSupermarket Type2\n",
       ":   0.108881849114162Outlet_TypeSupermarket Type3\n",
       ":   0.109703156165669\n",
       "\n"
      ],
      "text/plain": [
       "                   Item_Weight             Item_Fat_ContentLF \n",
       "                  1.281342e+01                   3.707615e-02 \n",
       "       Item_Fat_Contentlow fat        Item_Fat_ContentLow Fat \n",
       "                  1.314091e-02                   5.970902e-01 \n",
       "           Item_Fat_Contentreg        Item_Fat_ContentRegular \n",
       "                  1.372756e-02                   3.389652e-01 \n",
       "               Item_Visibility          Item_TypeBaking Goods \n",
       "                  6.946593e-02                   7.602957e-02 \n",
       "               Item_TypeBreads             Item_TypeBreakfast \n",
       "                  2.944972e-02                   1.290625e-02 \n",
       "               Item_TypeCanned                 Item_TypeDairy \n",
       "                  7.614690e-02                   8.001877e-02 \n",
       "         Item_TypeFrozen Foods Item_TypeFruits and Vegetables \n",
       "                  1.004341e-01                   1.445500e-01 \n",
       "          Item_TypeHard Drinks    Item_TypeHealth and Hygiene \n",
       "                  2.510853e-02                   6.101138e-02 \n",
       "            Item_TypeHousehold                  Item_TypeMeat \n",
       "                  1.067699e-01                   4.986507e-02 \n",
       "               Item_TypeOthers               Item_TypeSeafood \n",
       "                  1.982870e-02                   7.509093e-03 \n",
       "          Item_TypeSnack Foods           Item_TypeSoft Drinks \n",
       "                  1.407955e-01                   5.221166e-02 \n",
       "        Item_TypeStarchy Foods                       Item_MRP \n",
       "                  1.736478e-02                   1.409928e+02 \n",
       " Outlet_Establishment_Year1985  Outlet_Establishment_Year1987 \n",
       "                  1.716532e-01                   1.093512e-01 \n",
       " Outlet_Establishment_Year1997  Outlet_Establishment_Year1998 \n",
       "                  1.091165e-01                   6.511792e-02 \n",
       " Outlet_Establishment_Year1999  Outlet_Establishment_Year2002 \n",
       "                  1.091165e-01                   1.089992e-01 \n",
       " Outlet_Establishment_Year2004  Outlet_Establishment_Year2007 \n",
       "                  1.091165e-01                   1.086472e-01 \n",
       " Outlet_Establishment_Year2009               Outlet_SizeOther \n",
       "                  1.088818e-01                   2.827643e-01 \n",
       "               Outlet_SizeHigh              Outlet_SizeMedium \n",
       "                  1.093512e-01                   3.277015e-01 \n",
       "              Outlet_SizeSmall     Outlet_Location_TypeTier 1 \n",
       "                  2.801830e-01                   2.801830e-01 \n",
       "    Outlet_Location_TypeTier 2     Outlet_Location_TypeTier 3 \n",
       "                  3.267629e-01                   3.930541e-01 \n",
       "      Outlet_TypeGrocery Store   Outlet_TypeSupermarket Type1 \n",
       "                  1.270679e-01                   6.543471e-01 \n",
       "  Outlet_TypeSupermarket Type2   Outlet_TypeSupermarket Type3 \n",
       "                  1.088818e-01                   1.097032e-01 "
      ]
     },
     "metadata": {},
     "output_type": "display_data"
    }
   ],
   "source": [
    "prin_comp$center"
   ]
  },
  {
   "cell_type": "markdown",
   "metadata": {},
   "source": [
    "#### Scale"
   ]
  },
  {
   "cell_type": "code",
   "execution_count": 16,
   "metadata": {
    "scrolled": true
   },
   "outputs": [
    {
     "data": {
      "text/html": [
       "<dl class=dl-horizontal>\n",
       "\t<dt>Item_Weight</dt>\n",
       "\t\t<dd>4.22724040646775</dd>\n",
       "\t<dt>Item_Fat_ContentLF</dt>\n",
       "\t\t<dd>0.188959507731558</dd>\n",
       "\t<dt>Item_Fat_Contentlow fat</dt>\n",
       "\t\t<dd>0.113884814482397</dd>\n",
       "\t<dt>Item_Fat_ContentLow Fat</dt>\n",
       "\t\t<dd>0.490511689592442</dd>\n",
       "\t<dt>Item_Fat_Contentreg</dt>\n",
       "\t\t<dd>0.116364528615165</dd>\n",
       "\t<dt>Item_Fat_ContentRegular</dt>\n",
       "\t\t<dd>0.473385752797558</dd>\n",
       "\t<dt>Item_Visibility</dt>\n",
       "\t\t<dd>0.0488910284638117</dd>\n",
       "\t<dt>Item_TypeBaking Goods</dt>\n",
       "\t\t<dd>0.265060965154552</dd>\n",
       "\t<dt>Item_TypeBreads</dt>\n",
       "\t\t<dd>0.169073333126543</dd>\n",
       "\t<dt>Item_TypeBreakfast</dt>\n",
       "\t\t<dd>0.112876823129454</dd>\n",
       "\t<dt>Item_TypeCanned</dt>\n",
       "\t\t<dd>0.265248565876928</dd>\n",
       "\t<dt>Item_TypeDairy</dt>\n",
       "\t\t<dd>0.271338178411448</dd>\n",
       "\t<dt>Item_TypeFrozen Foods</dt>\n",
       "\t\t<dd>0.300595589996634</dd>\n",
       "\t<dt>Item_TypeFruits and Vegetables</dt>\n",
       "\t\t<dd>0.35166722455074</dd>\n",
       "\t<dt>Item_TypeHard Drinks</dt>\n",
       "\t\t<dd>0.156463938112955</dd>\n",
       "\t<dt>Item_TypeHealth and Hygiene</dt>\n",
       "\t\t<dd>0.239365233155255</dd>\n",
       "\t<dt>Item_TypeHousehold</dt>\n",
       "\t\t<dd>0.308838619074133</dd>\n",
       "\t<dt>Item_TypeMeat</dt>\n",
       "\t\t<dd>0.217678903978371</dd>\n",
       "\t<dt>Item_TypeOthers</dt>\n",
       "\t\t<dd>0.139419518530997</dd>\n",
       "\t<dt>Item_TypeSeafood</dt>\n",
       "\t\t<dd>0.0863341247107244</dd>\n",
       "\t<dt>Item_TypeSnack Foods</dt>\n",
       "\t\t<dd>0.347830876337953</dd>\n",
       "\t<dt>Item_TypeSoft Drinks</dt>\n",
       "\t\t<dd>0.222466652915267</dd>\n",
       "\t<dt>Item_TypeStarchy Foods</dt>\n",
       "\t\t<dd>0.130634009412521</dd>\n",
       "\t<dt>Item_MRP</dt>\n",
       "\t\t<dd>62.2750665121905</dd>\n",
       "\t<dt>Outlet_Establishment_Year1985</dt>\n",
       "\t\t<dd>0.377100844018794</dd>\n",
       "\t<dt>Outlet_Establishment_Year1987</dt>\n",
       "\t\t<dd>0.312097609874166</dd>\n",
       "\t<dt>Outlet_Establishment_Year1997</dt>\n",
       "\t\t<dd>0.311803628670832</dd>\n",
       "\t<dt>Outlet_Establishment_Year1998</dt>\n",
       "\t\t<dd>0.246748286298307</dd>\n",
       "\t<dt>Outlet_Establishment_Year1999</dt>\n",
       "\t\t<dd>0.311803628670832</dd>\n",
       "\t<dt>Outlet_Establishment_Year2002</dt>\n",
       "\t\t<dd>0.311656467814046</dd>\n",
       "\t<dt>Outlet_Establishment_Year2004</dt>\n",
       "\t\t<dd>0.311803628670832</dd>\n",
       "\t<dt>Outlet_Establishment_Year2007</dt>\n",
       "\t\t<dd>0.311214302290672</dd>\n",
       "\t<dt>Outlet_Establishment_Year2009</dt>\n",
       "\t\t<dd>0.311509193239406</dd>\n",
       "\t<dt>Outlet_SizeOther</dt>\n",
       "\t\t<dd>0.450369228877463</dd>\n",
       "\t<dt>Outlet_SizeHigh</dt>\n",
       "\t\t<dd>0.312097609874166</dd>\n",
       "\t<dt>Outlet_SizeMedium</dt>\n",
       "\t\t<dd>0.469402901417831</dd>\n",
       "\t<dt>Outlet_SizeSmall</dt>\n",
       "\t\t<dd>0.449114871036777</dd>\n",
       "\t<dt>Outlet_Location_TypeTier 1</dt>\n",
       "\t\t<dd>0.449114871036777</dd>\n",
       "\t<dt>Outlet_Location_TypeTier 2</dt>\n",
       "\t\t<dd>0.469057260279657</dd>\n",
       "\t<dt>Outlet_Location_TypeTier 3</dt>\n",
       "\t\t<dd>0.48845733266811</dd>\n",
       "\t<dt>Outlet_TypeGrocery Store</dt>\n",
       "\t\t<dd>0.333068596447822</dd>\n",
       "\t<dt>Outlet_TypeSupermarket Type1</dt>\n",
       "\t\t<dd>0.475608583982349</dd>\n",
       "\t<dt>Outlet_TypeSupermarket Type2</dt>\n",
       "\t\t<dd>0.311509193239406</dd>\n",
       "\t<dt>Outlet_TypeSupermarket Type3</dt>\n",
       "\t\t<dd>0.31253773280484</dd>\n",
       "</dl>\n"
      ],
      "text/latex": [
       "\\begin{description*}\n",
       "\\item[Item\\textbackslash{}\\_Weight] 4.22724040646775\n",
       "\\item[Item\\textbackslash{}\\_Fat\\textbackslash{}\\_ContentLF] 0.188959507731558\n",
       "\\item[Item\\textbackslash{}\\_Fat\\textbackslash{}\\_Contentlow fat] 0.113884814482397\n",
       "\\item[Item\\textbackslash{}\\_Fat\\textbackslash{}\\_ContentLow Fat] 0.490511689592442\n",
       "\\item[Item\\textbackslash{}\\_Fat\\textbackslash{}\\_Contentreg] 0.116364528615165\n",
       "\\item[Item\\textbackslash{}\\_Fat\\textbackslash{}\\_ContentRegular] 0.473385752797558\n",
       "\\item[Item\\textbackslash{}\\_Visibility] 0.0488910284638117\n",
       "\\item[Item\\textbackslash{}\\_TypeBaking Goods] 0.265060965154552\n",
       "\\item[Item\\textbackslash{}\\_TypeBreads] 0.169073333126543\n",
       "\\item[Item\\textbackslash{}\\_TypeBreakfast] 0.112876823129454\n",
       "\\item[Item\\textbackslash{}\\_TypeCanned] 0.265248565876928\n",
       "\\item[Item\\textbackslash{}\\_TypeDairy] 0.271338178411448\n",
       "\\item[Item\\textbackslash{}\\_TypeFrozen Foods] 0.300595589996634\n",
       "\\item[Item\\textbackslash{}\\_TypeFruits and Vegetables] 0.35166722455074\n",
       "\\item[Item\\textbackslash{}\\_TypeHard Drinks] 0.156463938112955\n",
       "\\item[Item\\textbackslash{}\\_TypeHealth and Hygiene] 0.239365233155255\n",
       "\\item[Item\\textbackslash{}\\_TypeHousehold] 0.308838619074133\n",
       "\\item[Item\\textbackslash{}\\_TypeMeat] 0.217678903978371\n",
       "\\item[Item\\textbackslash{}\\_TypeOthers] 0.139419518530997\n",
       "\\item[Item\\textbackslash{}\\_TypeSeafood] 0.0863341247107244\n",
       "\\item[Item\\textbackslash{}\\_TypeSnack Foods] 0.347830876337953\n",
       "\\item[Item\\textbackslash{}\\_TypeSoft Drinks] 0.222466652915267\n",
       "\\item[Item\\textbackslash{}\\_TypeStarchy Foods] 0.130634009412521\n",
       "\\item[Item\\textbackslash{}\\_MRP] 62.2750665121905\n",
       "\\item[Outlet\\textbackslash{}\\_Establishment\\textbackslash{}\\_Year1985] 0.377100844018794\n",
       "\\item[Outlet\\textbackslash{}\\_Establishment\\textbackslash{}\\_Year1987] 0.312097609874166\n",
       "\\item[Outlet\\textbackslash{}\\_Establishment\\textbackslash{}\\_Year1997] 0.311803628670832\n",
       "\\item[Outlet\\textbackslash{}\\_Establishment\\textbackslash{}\\_Year1998] 0.246748286298307\n",
       "\\item[Outlet\\textbackslash{}\\_Establishment\\textbackslash{}\\_Year1999] 0.311803628670832\n",
       "\\item[Outlet\\textbackslash{}\\_Establishment\\textbackslash{}\\_Year2002] 0.311656467814046\n",
       "\\item[Outlet\\textbackslash{}\\_Establishment\\textbackslash{}\\_Year2004] 0.311803628670832\n",
       "\\item[Outlet\\textbackslash{}\\_Establishment\\textbackslash{}\\_Year2007] 0.311214302290672\n",
       "\\item[Outlet\\textbackslash{}\\_Establishment\\textbackslash{}\\_Year2009] 0.311509193239406\n",
       "\\item[Outlet\\textbackslash{}\\_SizeOther] 0.450369228877463\n",
       "\\item[Outlet\\textbackslash{}\\_SizeHigh] 0.312097609874166\n",
       "\\item[Outlet\\textbackslash{}\\_SizeMedium] 0.469402901417831\n",
       "\\item[Outlet\\textbackslash{}\\_SizeSmall] 0.449114871036777\n",
       "\\item[Outlet\\textbackslash{}\\_Location\\textbackslash{}\\_TypeTier 1] 0.449114871036777\n",
       "\\item[Outlet\\textbackslash{}\\_Location\\textbackslash{}\\_TypeTier 2] 0.469057260279657\n",
       "\\item[Outlet\\textbackslash{}\\_Location\\textbackslash{}\\_TypeTier 3] 0.48845733266811\n",
       "\\item[Outlet\\textbackslash{}\\_TypeGrocery Store] 0.333068596447822\n",
       "\\item[Outlet\\textbackslash{}\\_TypeSupermarket Type1] 0.475608583982349\n",
       "\\item[Outlet\\textbackslash{}\\_TypeSupermarket Type2] 0.311509193239406\n",
       "\\item[Outlet\\textbackslash{}\\_TypeSupermarket Type3] 0.31253773280484\n",
       "\\end{description*}\n"
      ],
      "text/markdown": [
       "Item_Weight\n",
       ":   4.22724040646775Item_Fat_ContentLF\n",
       ":   0.188959507731558Item_Fat_Contentlow fat\n",
       ":   0.113884814482397Item_Fat_ContentLow Fat\n",
       ":   0.490511689592442Item_Fat_Contentreg\n",
       ":   0.116364528615165Item_Fat_ContentRegular\n",
       ":   0.473385752797558Item_Visibility\n",
       ":   0.0488910284638117Item_TypeBaking Goods\n",
       ":   0.265060965154552Item_TypeBreads\n",
       ":   0.169073333126543Item_TypeBreakfast\n",
       ":   0.112876823129454Item_TypeCanned\n",
       ":   0.265248565876928Item_TypeDairy\n",
       ":   0.271338178411448Item_TypeFrozen Foods\n",
       ":   0.300595589996634Item_TypeFruits and Vegetables\n",
       ":   0.35166722455074Item_TypeHard Drinks\n",
       ":   0.156463938112955Item_TypeHealth and Hygiene\n",
       ":   0.239365233155255Item_TypeHousehold\n",
       ":   0.308838619074133Item_TypeMeat\n",
       ":   0.217678903978371Item_TypeOthers\n",
       ":   0.139419518530997Item_TypeSeafood\n",
       ":   0.0863341247107244Item_TypeSnack Foods\n",
       ":   0.347830876337953Item_TypeSoft Drinks\n",
       ":   0.222466652915267Item_TypeStarchy Foods\n",
       ":   0.130634009412521Item_MRP\n",
       ":   62.2750665121905Outlet_Establishment_Year1985\n",
       ":   0.377100844018794Outlet_Establishment_Year1987\n",
       ":   0.312097609874166Outlet_Establishment_Year1997\n",
       ":   0.311803628670832Outlet_Establishment_Year1998\n",
       ":   0.246748286298307Outlet_Establishment_Year1999\n",
       ":   0.311803628670832Outlet_Establishment_Year2002\n",
       ":   0.311656467814046Outlet_Establishment_Year2004\n",
       ":   0.311803628670832Outlet_Establishment_Year2007\n",
       ":   0.311214302290672Outlet_Establishment_Year2009\n",
       ":   0.311509193239406Outlet_SizeOther\n",
       ":   0.450369228877463Outlet_SizeHigh\n",
       ":   0.312097609874166Outlet_SizeMedium\n",
       ":   0.469402901417831Outlet_SizeSmall\n",
       ":   0.449114871036777Outlet_Location_TypeTier 1\n",
       ":   0.449114871036777Outlet_Location_TypeTier 2\n",
       ":   0.469057260279657Outlet_Location_TypeTier 3\n",
       ":   0.48845733266811Outlet_TypeGrocery Store\n",
       ":   0.333068596447822Outlet_TypeSupermarket Type1\n",
       ":   0.475608583982349Outlet_TypeSupermarket Type2\n",
       ":   0.311509193239406Outlet_TypeSupermarket Type3\n",
       ":   0.31253773280484\n",
       "\n"
      ],
      "text/plain": [
       "                   Item_Weight             Item_Fat_ContentLF \n",
       "                    4.22724041                     0.18895951 \n",
       "       Item_Fat_Contentlow fat        Item_Fat_ContentLow Fat \n",
       "                    0.11388481                     0.49051169 \n",
       "           Item_Fat_Contentreg        Item_Fat_ContentRegular \n",
       "                    0.11636453                     0.47338575 \n",
       "               Item_Visibility          Item_TypeBaking Goods \n",
       "                    0.04889103                     0.26506097 \n",
       "               Item_TypeBreads             Item_TypeBreakfast \n",
       "                    0.16907333                     0.11287682 \n",
       "               Item_TypeCanned                 Item_TypeDairy \n",
       "                    0.26524857                     0.27133818 \n",
       "         Item_TypeFrozen Foods Item_TypeFruits and Vegetables \n",
       "                    0.30059559                     0.35166722 \n",
       "          Item_TypeHard Drinks    Item_TypeHealth and Hygiene \n",
       "                    0.15646394                     0.23936523 \n",
       "            Item_TypeHousehold                  Item_TypeMeat \n",
       "                    0.30883862                     0.21767890 \n",
       "               Item_TypeOthers               Item_TypeSeafood \n",
       "                    0.13941952                     0.08633412 \n",
       "          Item_TypeSnack Foods           Item_TypeSoft Drinks \n",
       "                    0.34783088                     0.22246665 \n",
       "        Item_TypeStarchy Foods                       Item_MRP \n",
       "                    0.13063401                    62.27506651 \n",
       " Outlet_Establishment_Year1985  Outlet_Establishment_Year1987 \n",
       "                    0.37710084                     0.31209761 \n",
       " Outlet_Establishment_Year1997  Outlet_Establishment_Year1998 \n",
       "                    0.31180363                     0.24674829 \n",
       " Outlet_Establishment_Year1999  Outlet_Establishment_Year2002 \n",
       "                    0.31180363                     0.31165647 \n",
       " Outlet_Establishment_Year2004  Outlet_Establishment_Year2007 \n",
       "                    0.31180363                     0.31121430 \n",
       " Outlet_Establishment_Year2009               Outlet_SizeOther \n",
       "                    0.31150919                     0.45036923 \n",
       "               Outlet_SizeHigh              Outlet_SizeMedium \n",
       "                    0.31209761                     0.46940290 \n",
       "              Outlet_SizeSmall     Outlet_Location_TypeTier 1 \n",
       "                    0.44911487                     0.44911487 \n",
       "    Outlet_Location_TypeTier 2     Outlet_Location_TypeTier 3 \n",
       "                    0.46905726                     0.48845733 \n",
       "      Outlet_TypeGrocery Store   Outlet_TypeSupermarket Type1 \n",
       "                    0.33306860                     0.47560858 \n",
       "  Outlet_TypeSupermarket Type2   Outlet_TypeSupermarket Type3 \n",
       "                    0.31150919                     0.31253773 "
      ]
     },
     "metadata": {},
     "output_type": "display_data"
    }
   ],
   "source": [
    "prin_comp$scale"
   ]
  },
  {
   "cell_type": "markdown",
   "metadata": {},
   "source": [
    "#### Rotation\n",
    "\n",
    "This returns 44 principal components loadings. Is that correct? Absolutely. In a data set, the maximum number of principal component loadings is a minimum of (n-1, p). Let’s look at first 4 principal components and first 5 rows."
   ]
  },
  {
   "cell_type": "code",
   "execution_count": 17,
   "metadata": {},
   "outputs": [
    {
     "data": {
      "text/html": [
       "<table>\n",
       "<thead><tr><th></th><th scope=col>PC1</th><th scope=col>PC2</th><th scope=col>PC3</th><th scope=col>PC4</th></tr></thead>\n",
       "<tbody>\n",
       "\t<tr><th scope=row>Item_Weight</th><td> 0.001044124 </td><td>-0.0004384151</td><td>-0.021454235 </td><td> 0.0009241751</td></tr>\n",
       "\t<tr><th scope=row>Item_Fat_ContentLF</th><td>-0.009172576 </td><td> 0.0019042858</td><td> 0.008383420 </td><td> 0.0067791081</td></tr>\n",
       "\t<tr><th scope=row>Item_Fat_Contentlow fat</th><td>-0.003428769 </td><td>-0.0055492764</td><td>-0.003302283 </td><td> 0.0200639450</td></tr>\n",
       "\t<tr><th scope=row>Item_Fat_ContentLow Fat</th><td> 0.007836003 </td><td>-0.0065124968</td><td>-0.021090747 </td><td>-0.0263226605</td></tr>\n",
       "\t<tr><th scope=row>Item_Fat_Contentreg</th><td>-0.001251767 </td><td>-0.0033104683</td><td>-0.006895653 </td><td>-0.0128246294</td></tr>\n",
       "</tbody>\n",
       "</table>\n"
      ],
      "text/latex": [
       "\\begin{tabular}{r|llll}\n",
       "  & PC1 & PC2 & PC3 & PC4\\\\\n",
       "\\hline\n",
       "\tItem\\_Weight &  0.001044124  & -0.0004384151 & -0.021454235  &  0.0009241751\\\\\n",
       "\tItem\\_Fat\\_ContentLF & -0.009172576  &  0.0019042858 &  0.008383420  &  0.0067791081\\\\\n",
       "\tItem\\_Fat\\_Contentlow fat & -0.003428769  & -0.0055492764 & -0.003302283  &  0.0200639450\\\\\n",
       "\tItem\\_Fat\\_ContentLow Fat &  0.007836003  & -0.0065124968 & -0.021090747  & -0.0263226605\\\\\n",
       "\tItem\\_Fat\\_Contentreg & -0.001251767  & -0.0033104683 & -0.006895653  & -0.0128246294\\\\\n",
       "\\end{tabular}\n"
      ],
      "text/markdown": [
       "\n",
       "| <!--/--> | PC1 | PC2 | PC3 | PC4 |\n",
       "|---|---|---|---|---|\n",
       "| Item_Weight |  0.001044124  | -0.0004384151 | -0.021454235  |  0.0009241751 |\n",
       "| Item_Fat_ContentLF | -0.009172576  |  0.0019042858 |  0.008383420  |  0.0067791081 |\n",
       "| Item_Fat_Contentlow fat | -0.003428769  | -0.0055492764 | -0.003302283  |  0.0200639450 |\n",
       "| Item_Fat_ContentLow Fat |  0.007836003  | -0.0065124968 | -0.021090747  | -0.0263226605 |\n",
       "| Item_Fat_Contentreg | -0.001251767  | -0.0033104683 | -0.006895653  | -0.0128246294 |\n",
       "\n"
      ],
      "text/plain": [
       "                        PC1          PC2           PC3          PC4          \n",
       "Item_Weight              0.001044124 -0.0004384151 -0.021454235  0.0009241751\n",
       "Item_Fat_ContentLF      -0.009172576  0.0019042858  0.008383420  0.0067791081\n",
       "Item_Fat_Contentlow fat -0.003428769 -0.0055492764 -0.003302283  0.0200639450\n",
       "Item_Fat_ContentLow Fat  0.007836003 -0.0065124968 -0.021090747 -0.0263226605\n",
       "Item_Fat_Contentreg     -0.001251767 -0.0033104683 -0.006895653 -0.0128246294"
      ]
     },
     "metadata": {},
     "output_type": "display_data"
    }
   ],
   "source": [
    "prin_comp$rotation[1:5,1:4]"
   ]
  },
  {
   "cell_type": "markdown",
   "metadata": {},
   "source": [
    "#### x"
   ]
  },
  {
   "cell_type": "code",
   "execution_count": 18,
   "metadata": {},
   "outputs": [
    {
     "data": {
      "text/html": [
       "<ol class=list-inline>\n",
       "\t<li>8523</li>\n",
       "\t<li>44</li>\n",
       "</ol>\n"
      ],
      "text/latex": [
       "\\begin{enumerate*}\n",
       "\\item 8523\n",
       "\\item 44\n",
       "\\end{enumerate*}\n"
      ],
      "text/markdown": [
       "1. 8523\n",
       "2. 44\n",
       "\n",
       "\n"
      ],
      "text/plain": [
       "[1] 8523   44"
      ]
     },
     "metadata": {},
     "output_type": "display_data"
    }
   ],
   "source": [
    "dim(prin_comp$x)"
   ]
  },
  {
   "cell_type": "code",
   "execution_count": 26,
   "metadata": {},
   "outputs": [
    {
     "data": {
      "text/html": [
       "<table>\n",
       "<thead><tr><th scope=col>PC1</th><th scope=col>PC2</th><th scope=col>PC3</th><th scope=col>PC4</th><th scope=col>PC5</th><th scope=col>PC6</th><th scope=col>PC7</th><th scope=col>PC8</th><th scope=col>PC9</th><th scope=col>PC10</th><th scope=col>...</th><th scope=col>PC35</th><th scope=col>PC36</th><th scope=col>PC37</th><th scope=col>PC38</th><th scope=col>PC39</th><th scope=col>PC40</th><th scope=col>PC41</th><th scope=col>PC42</th><th scope=col>PC43</th><th scope=col>PC44</th></tr></thead>\n",
       "<tbody>\n",
       "\t<tr><td>-0.08527768  </td><td> 2.0793533   </td><td>-0.9039633   </td><td>-1.463572    </td><td>-0.8912646   </td><td>-0.79727124  </td><td>-2.65122163  </td><td> 1.64275670  </td><td>-0.625275856 </td><td>-0.15953020  </td><td>...          </td><td>-2.706169e-15</td><td> 3.547510e-15</td><td>-3.392252e-15</td><td>-3.053113e-16</td><td>-2.487593e-15</td><td>-1.110223e-15</td><td>-2.664535e-15</td><td>-9.714451e-17</td><td> 1.013079e-15</td><td> 7.934310e-16</td></tr>\n",
       "\t<tr><td>-3.50967803  </td><td>-0.9428276   </td><td>-0.4380954   </td><td>-2.603784    </td><td> 1.3690898   </td><td> 1.91846603  </td><td> 0.55481440  </td><td>-0.95775280  </td><td> 2.470651949 </td><td> 0.38494172  </td><td>...          </td><td> 2.622902e-15</td><td>-4.484260e-15</td><td>-2.625504e-15</td><td>-3.053113e-16</td><td>-3.299444e-15</td><td> 8.326673e-17</td><td> 3.122502e-15</td><td> 8.187895e-16</td><td>-1.797174e-15</td><td>-1.177215e-15</td></tr>\n",
       "\t<tr><td>-0.14120359  </td><td> 2.0710746   </td><td>-0.8407739   </td><td>-1.455014    </td><td>-0.5148561   </td><td>-0.90209053  </td><td>-2.66214501  </td><td> 1.30357012  </td><td> 0.003587401 </td><td> 0.01810078  </td><td>...          </td><td>-2.595146e-15</td><td> 2.104220e-15</td><td>-6.158268e-17</td><td> 6.938894e-16</td><td>-2.487593e-15</td><td>-1.332268e-15</td><td>-2.331468e-15</td><td>-1.984524e-15</td><td> 1.387779e-17</td><td> 1.209765e-15</td></tr>\n",
       "\t<tr><td>-1.05100276  </td><td>-1.8337519   </td><td> 2.7596677   </td><td> 2.872852    </td><td> 1.7328057   </td><td> 1.78964654  </td><td>-1.35963757  </td><td> 1.02195216  </td><td>-1.856605576 </td><td> 1.61322787  </td><td>...          </td><td> 3.413936e-15</td><td> 1.613293e-16</td><td> 7.363901e-16</td><td> 4.884981e-15</td><td>-2.154527e-15</td><td> 4.385381e-15</td><td> 8.049117e-16</td><td> 3.747003e-16</td><td>-1.817990e-15</td><td> 7.178602e-17</td></tr>\n",
       "\t<tr><td>-0.45879420  </td><td>-1.3160832   </td><td>-3.8389628   </td><td> 2.308887    </td><td>-1.8090108   </td><td> 0.01082984  </td><td> 0.00364969  </td><td>-0.05826131  </td><td> 0.246629443 </td><td> 0.22802905  </td><td>...          </td><td> 8.007484e-15</td><td> 4.388850e-16</td><td>-2.288968e-15</td><td>-3.524958e-15</td><td> 2.841477e-15</td><td>-9.992007e-16</td><td>-2.775558e-16</td><td> 6.245005e-16</td><td> 1.249001e-16</td><td> 4.603641e-16</td></tr>\n",
       "\t<tr><td>-3.55016936  </td><td>-0.8956090   </td><td>-0.3167005   </td><td>-2.414880    </td><td> 2.1354155   </td><td> 2.01204936  </td><td> 0.47266949  </td><td>-0.98853163  </td><td> 2.178863178 </td><td> 0.26504893  </td><td>...          </td><td> 4.177214e-15</td><td> 1.177877e-15</td><td>-7.381248e-16</td><td>-3.191891e-15</td><td>-2.633310e-15</td><td>-2.803313e-15</td><td> 1.124101e-15</td><td> 1.484923e-15</td><td>-3.538836e-16</td><td>-2.509483e-15</td></tr>\n",
       "</tbody>\n",
       "</table>\n"
      ],
      "text/latex": [
       "\\begin{tabular}{r|llllllllllllllllllllllllllllllllllllllllllll}\n",
       " PC1 & PC2 & PC3 & PC4 & PC5 & PC6 & PC7 & PC8 & PC9 & PC10 & ... & PC35 & PC36 & PC37 & PC38 & PC39 & PC40 & PC41 & PC42 & PC43 & PC44\\\\\n",
       "\\hline\n",
       "\t -0.08527768   &  2.0793533    & -0.9039633    & -1.463572     & -0.8912646    & -0.79727124   & -2.65122163   &  1.64275670   & -0.625275856  & -0.15953020   & ...           & -2.706169e-15 &  3.547510e-15 & -3.392252e-15 & -3.053113e-16 & -2.487593e-15 & -1.110223e-15 & -2.664535e-15 & -9.714451e-17 &  1.013079e-15 &  7.934310e-16\\\\\n",
       "\t -3.50967803   & -0.9428276    & -0.4380954    & -2.603784     &  1.3690898    &  1.91846603   &  0.55481440   & -0.95775280   &  2.470651949  &  0.38494172   & ...           &  2.622902e-15 & -4.484260e-15 & -2.625504e-15 & -3.053113e-16 & -3.299444e-15 &  8.326673e-17 &  3.122502e-15 &  8.187895e-16 & -1.797174e-15 & -1.177215e-15\\\\\n",
       "\t -0.14120359   &  2.0710746    & -0.8407739    & -1.455014     & -0.5148561    & -0.90209053   & -2.66214501   &  1.30357012   &  0.003587401  &  0.01810078   & ...           & -2.595146e-15 &  2.104220e-15 & -6.158268e-17 &  6.938894e-16 & -2.487593e-15 & -1.332268e-15 & -2.331468e-15 & -1.984524e-15 &  1.387779e-17 &  1.209765e-15\\\\\n",
       "\t -1.05100276   & -1.8337519    &  2.7596677    &  2.872852     &  1.7328057    &  1.78964654   & -1.35963757   &  1.02195216   & -1.856605576  &  1.61322787   & ...           &  3.413936e-15 &  1.613293e-16 &  7.363901e-16 &  4.884981e-15 & -2.154527e-15 &  4.385381e-15 &  8.049117e-16 &  3.747003e-16 & -1.817990e-15 &  7.178602e-17\\\\\n",
       "\t -0.45879420   & -1.3160832    & -3.8389628    &  2.308887     & -1.8090108    &  0.01082984   &  0.00364969   & -0.05826131   &  0.246629443  &  0.22802905   & ...           &  8.007484e-15 &  4.388850e-16 & -2.288968e-15 & -3.524958e-15 &  2.841477e-15 & -9.992007e-16 & -2.775558e-16 &  6.245005e-16 &  1.249001e-16 &  4.603641e-16\\\\\n",
       "\t -3.55016936   & -0.8956090    & -0.3167005    & -2.414880     &  2.1354155    &  2.01204936   &  0.47266949   & -0.98853163   &  2.178863178  &  0.26504893   & ...           &  4.177214e-15 &  1.177877e-15 & -7.381248e-16 & -3.191891e-15 & -2.633310e-15 & -2.803313e-15 &  1.124101e-15 &  1.484923e-15 & -3.538836e-16 & -2.509483e-15\\\\\n",
       "\\end{tabular}\n"
      ],
      "text/markdown": [
       "\n",
       "| PC1 | PC2 | PC3 | PC4 | PC5 | PC6 | PC7 | PC8 | PC9 | PC10 | ... | PC35 | PC36 | PC37 | PC38 | PC39 | PC40 | PC41 | PC42 | PC43 | PC44 |\n",
       "|---|---|---|---|---|---|---|---|---|---|---|---|---|---|---|---|---|---|---|---|---|\n",
       "| -0.08527768   |  2.0793533    | -0.9039633    | -1.463572     | -0.8912646    | -0.79727124   | -2.65122163   |  1.64275670   | -0.625275856  | -0.15953020   | ...           | -2.706169e-15 |  3.547510e-15 | -3.392252e-15 | -3.053113e-16 | -2.487593e-15 | -1.110223e-15 | -2.664535e-15 | -9.714451e-17 |  1.013079e-15 |  7.934310e-16 |\n",
       "| -3.50967803   | -0.9428276    | -0.4380954    | -2.603784     |  1.3690898    |  1.91846603   |  0.55481440   | -0.95775280   |  2.470651949  |  0.38494172   | ...           |  2.622902e-15 | -4.484260e-15 | -2.625504e-15 | -3.053113e-16 | -3.299444e-15 |  8.326673e-17 |  3.122502e-15 |  8.187895e-16 | -1.797174e-15 | -1.177215e-15 |\n",
       "| -0.14120359   |  2.0710746    | -0.8407739    | -1.455014     | -0.5148561    | -0.90209053   | -2.66214501   |  1.30357012   |  0.003587401  |  0.01810078   | ...           | -2.595146e-15 |  2.104220e-15 | -6.158268e-17 |  6.938894e-16 | -2.487593e-15 | -1.332268e-15 | -2.331468e-15 | -1.984524e-15 |  1.387779e-17 |  1.209765e-15 |\n",
       "| -1.05100276   | -1.8337519    |  2.7596677    |  2.872852     |  1.7328057    |  1.78964654   | -1.35963757   |  1.02195216   | -1.856605576  |  1.61322787   | ...           |  3.413936e-15 |  1.613293e-16 |  7.363901e-16 |  4.884981e-15 | -2.154527e-15 |  4.385381e-15 |  8.049117e-16 |  3.747003e-16 | -1.817990e-15 |  7.178602e-17 |\n",
       "| -0.45879420   | -1.3160832    | -3.8389628    |  2.308887     | -1.8090108    |  0.01082984   |  0.00364969   | -0.05826131   |  0.246629443  |  0.22802905   | ...           |  8.007484e-15 |  4.388850e-16 | -2.288968e-15 | -3.524958e-15 |  2.841477e-15 | -9.992007e-16 | -2.775558e-16 |  6.245005e-16 |  1.249001e-16 |  4.603641e-16 |\n",
       "| -3.55016936   | -0.8956090    | -0.3167005    | -2.414880     |  2.1354155    |  2.01204936   |  0.47266949   | -0.98853163   |  2.178863178  |  0.26504893   | ...           |  4.177214e-15 |  1.177877e-15 | -7.381248e-16 | -3.191891e-15 | -2.633310e-15 | -2.803313e-15 |  1.124101e-15 |  1.484923e-15 | -3.538836e-16 | -2.509483e-15 |\n",
       "\n"
      ],
      "text/plain": [
       "  PC1         PC2        PC3        PC4       PC5        PC6        \n",
       "1 -0.08527768  2.0793533 -0.9039633 -1.463572 -0.8912646 -0.79727124\n",
       "2 -3.50967803 -0.9428276 -0.4380954 -2.603784  1.3690898  1.91846603\n",
       "3 -0.14120359  2.0710746 -0.8407739 -1.455014 -0.5148561 -0.90209053\n",
       "4 -1.05100276 -1.8337519  2.7596677  2.872852  1.7328057  1.78964654\n",
       "5 -0.45879420 -1.3160832 -3.8389628  2.308887 -1.8090108  0.01082984\n",
       "6 -3.55016936 -0.8956090 -0.3167005 -2.414880  2.1354155  2.01204936\n",
       "  PC7         PC8         PC9          PC10        ... PC35         \n",
       "1 -2.65122163  1.64275670 -0.625275856 -0.15953020 ... -2.706169e-15\n",
       "2  0.55481440 -0.95775280  2.470651949  0.38494172 ...  2.622902e-15\n",
       "3 -2.66214501  1.30357012  0.003587401  0.01810078 ... -2.595146e-15\n",
       "4 -1.35963757  1.02195216 -1.856605576  1.61322787 ...  3.413936e-15\n",
       "5  0.00364969 -0.05826131  0.246629443  0.22802905 ...  8.007484e-15\n",
       "6  0.47266949 -0.98853163  2.178863178  0.26504893 ...  4.177214e-15\n",
       "  PC36          PC37          PC38          PC39          PC40         \n",
       "1  3.547510e-15 -3.392252e-15 -3.053113e-16 -2.487593e-15 -1.110223e-15\n",
       "2 -4.484260e-15 -2.625504e-15 -3.053113e-16 -3.299444e-15  8.326673e-17\n",
       "3  2.104220e-15 -6.158268e-17  6.938894e-16 -2.487593e-15 -1.332268e-15\n",
       "4  1.613293e-16  7.363901e-16  4.884981e-15 -2.154527e-15  4.385381e-15\n",
       "5  4.388850e-16 -2.288968e-15 -3.524958e-15  2.841477e-15 -9.992007e-16\n",
       "6  1.177877e-15 -7.381248e-16 -3.191891e-15 -2.633310e-15 -2.803313e-15\n",
       "  PC41          PC42          PC43          PC44         \n",
       "1 -2.664535e-15 -9.714451e-17  1.013079e-15  7.934310e-16\n",
       "2  3.122502e-15  8.187895e-16 -1.797174e-15 -1.177215e-15\n",
       "3 -2.331468e-15 -1.984524e-15  1.387779e-17  1.209765e-15\n",
       "4  8.049117e-16  3.747003e-16 -1.817990e-15  7.178602e-17\n",
       "5 -2.775558e-16  6.245005e-16  1.249001e-16  4.603641e-16\n",
       "6  1.124101e-15  1.484923e-15 -3.538836e-16 -2.509483e-15"
      ]
     },
     "metadata": {},
     "output_type": "display_data"
    }
   ],
   "source": [
    "head(prin_comp$x)"
   ]
  },
  {
   "cell_type": "code",
   "execution_count": 19,
   "metadata": {},
   "outputs": [
    {
     "data": {
      "image/png": "[encoded data removed]",
      "text/plain": [
       "plot without title"
      ]
     },
     "metadata": {},
     "output_type": "display_data"
    }
   ],
   "source": [
    "biplot(prin_comp, scale = 0)"
   ]
  },
  {
   "cell_type": "markdown",
   "metadata": {},
   "source": [
    "The **parameter scale = 0** ensures that arrows are scaled to represent the loadings. To make inference from image above, focus on the extreme ends (top, bottom, left, right) of this graph.\n",
    "\n",
    "We infer than first principal component corresponds to a measure of Outlet_TypeSupermarket, Outlet_Establishment_Year 2007. Similarly, it can be said that the second component corresponds to a measure of Outlet_Location_TypeTier1, Outlet_Sizeother. For exact measure of a variable in a component, you should look at rotation matrix(above) again."
   ]
  },
  {
   "cell_type": "markdown",
   "metadata": {},
   "source": [
    "#### sdev"
   ]
  },
  {
   "cell_type": "code",
   "execution_count": 20,
   "metadata": {},
   "outputs": [
    {
     "data": {
      "text/html": [
       "<ol class=list-inline>\n",
       "\t<li>4.56463057456834</li>\n",
       "\t<li>3.21927885146657</li>\n",
       "\t<li>2.74449696313844</li>\n",
       "\t<li>2.53588253340959</li>\n",
       "\t<li>2.19044919530654</li>\n",
       "\t<li>2.02163976948508</li>\n",
       "\t<li>1.93500952181883</li>\n",
       "\t<li>1.26631091195189</li>\n",
       "\t<li>1.20575708732528</li>\n",
       "\t<li>1.16949489327168</li>\n",
       "</ol>\n"
      ],
      "text/latex": [
       "\\begin{enumerate*}\n",
       "\\item 4.56463057456834\n",
       "\\item 3.21927885146657\n",
       "\\item 2.74449696313844\n",
       "\\item 2.53588253340959\n",
       "\\item 2.19044919530654\n",
       "\\item 2.02163976948508\n",
       "\\item 1.93500952181883\n",
       "\\item 1.26631091195189\n",
       "\\item 1.20575708732528\n",
       "\\item 1.16949489327168\n",
       "\\end{enumerate*}\n"
      ],
      "text/markdown": [
       "1. 4.56463057456834\n",
       "2. 3.21927885146657\n",
       "3. 2.74449696313844\n",
       "4. 2.53588253340959\n",
       "5. 2.19044919530654\n",
       "6. 2.02163976948508\n",
       "7. 1.93500952181883\n",
       "8. 1.26631091195189\n",
       "9. 1.20575708732528\n",
       "10. 1.16949489327168\n",
       "\n",
       "\n"
      ],
      "text/plain": [
       " [1] 4.564631 3.219279 2.744497 2.535883 2.190449 2.021640 1.935010 1.266311\n",
       " [9] 1.205757 1.169495"
      ]
     },
     "metadata": {},
     "output_type": "display_data"
    }
   ],
   "source": [
    "#compute standard deviation of each principal component\n",
    "std_dev = prin_comp$sdev\n",
    "\n",
    "#compute variance\n",
    "pr_var = std_dev^2\n",
    "\n",
    "#check variance of first 10 components\n",
    "pr_var[1:10]"
   ]
  },
  {
   "cell_type": "markdown",
   "metadata": {},
   "source": [
    "We aim to find the components which explain the maximum variance. This is because, we want to retain as much information as possible using these components. So, higher is the explained variance, higher will be the information contained in those components.\n",
    "\n",
    "To compute the proportion of variance explained by each component, we simply divide the variance by sum of total variance. This results in:"
   ]
  },
  {
   "cell_type": "code",
   "execution_count": 21,
   "metadata": {},
   "outputs": [
    {
     "data": {
      "text/html": [
       "<ol class=list-inline>\n",
       "\t<li>0.103741603967462</li>\n",
       "\t<li>0.073165428442422</li>\n",
       "\t<li>0.062374930980419</li>\n",
       "\t<li>0.0576336939411271</li>\n",
       "\t<li>0.0497829362569668</li>\n",
       "\t<li>0.0459463583973881</li>\n",
       "\t<li>0.0439774891322461</li>\n",
       "\t<li>0.0287797934534521</li>\n",
       "\t<li>0.0274035701664836</li>\n",
       "\t<li>0.0265794293925382</li>\n",
       "\t<li>0.0263106275022722</li>\n",
       "\t<li>0.0257790605497748</li>\n",
       "\t<li>0.0254968314674956</li>\n",
       "\t<li>0.0251130894795006</li>\n",
       "\t<li>0.0247720013052577</li>\n",
       "\t<li>0.0246916707279283</li>\n",
       "\t<li>0.0246099498184688</li>\n",
       "\t<li>0.024460276974616</li>\n",
       "\t<li>0.0239872133253798</li>\n",
       "\t<li>0.0237346695080114</li>\n",
       "</ol>\n"
      ],
      "text/latex": [
       "\\begin{enumerate*}\n",
       "\\item 0.103741603967462\n",
       "\\item 0.073165428442422\n",
       "\\item 0.062374930980419\n",
       "\\item 0.0576336939411271\n",
       "\\item 0.0497829362569668\n",
       "\\item 0.0459463583973881\n",
       "\\item 0.0439774891322461\n",
       "\\item 0.0287797934534521\n",
       "\\item 0.0274035701664836\n",
       "\\item 0.0265794293925382\n",
       "\\item 0.0263106275022722\n",
       "\\item 0.0257790605497748\n",
       "\\item 0.0254968314674956\n",
       "\\item 0.0251130894795006\n",
       "\\item 0.0247720013052577\n",
       "\\item 0.0246916707279283\n",
       "\\item 0.0246099498184688\n",
       "\\item 0.024460276974616\n",
       "\\item 0.0239872133253798\n",
       "\\item 0.0237346695080114\n",
       "\\end{enumerate*}\n"
      ],
      "text/markdown": [
       "1. 0.103741603967462\n",
       "2. 0.073165428442422\n",
       "3. 0.062374930980419\n",
       "4. 0.0576336939411271\n",
       "5. 0.0497829362569668\n",
       "6. 0.0459463583973881\n",
       "7. 0.0439774891322461\n",
       "8. 0.0287797934534521\n",
       "9. 0.0274035701664836\n",
       "10. 0.0265794293925382\n",
       "11. 0.0263106275022722\n",
       "12. 0.0257790605497748\n",
       "13. 0.0254968314674956\n",
       "14. 0.0251130894795006\n",
       "15. 0.0247720013052577\n",
       "16. 0.0246916707279283\n",
       "17. 0.0246099498184688\n",
       "18. 0.024460276974616\n",
       "19. 0.0239872133253798\n",
       "20. 0.0237346695080114\n",
       "\n",
       "\n"
      ],
      "text/plain": [
       " [1] 0.10374160 0.07316543 0.06237493 0.05763369 0.04978294 0.04594636\n",
       " [7] 0.04397749 0.02877979 0.02740357 0.02657943 0.02631063 0.02577906\n",
       "[13] 0.02549683 0.02511309 0.02477200 0.02469167 0.02460995 0.02446028\n",
       "[19] 0.02398721 0.02373467"
      ]
     },
     "metadata": {},
     "output_type": "display_data"
    }
   ],
   "source": [
    "#proportion of variance explained\n",
    "prop_varex = pr_var/sum(pr_var)\n",
    "prop_varex[1:20]"
   ]
  },
  {
   "cell_type": "markdown",
   "metadata": {},
   "source": [
    "This shows that first principal component explains 10.3% variance. Second component explains 7.3% variance. Third component explains 6.2% variance and so on. So, how do we decide how many components should we select for modeling stage? The answer to this question is provided by a scree plot. A scree plot is used to access components or factors which explains the most of variability in the data. It represents values in descending order."
   ]
  },
  {
   "cell_type": "code",
   "execution_count": 22,
   "metadata": {},
   "outputs": [
    {
     "data": {
      "image/png": "[encoded data removed]",
      "text/plain": [
       "plot without title"
      ]
     },
     "metadata": {},
     "output_type": "display_data"
    }
   ],
   "source": [
    "plot(prop_varex, xlab = \"Principal Component\",\n",
    "             ylab = \"Proportion of Variance Explained\",\n",
    "             type = \"b\")"
   ]
  },
  {
   "cell_type": "markdown",
   "metadata": {},
   "source": [
    "The plot above shows that ~ 30 components explains around 98.4% variance in the data set. In order words, using PCA we have reduced 44 predictors to 30 without compromising on explained variance. This is the power of PCA. Let’s do a confirmation check, by plotting a cumulative variance plot. This will give us a clear picture of number of components."
   ]
  },
  {
   "cell_type": "code",
   "execution_count": 23,
   "metadata": {},
   "outputs": [
    {
     "data": {
      "image/png": "[encoded data removed]",
      "text/plain": [
       "plot without title"
      ]
     },
     "metadata": {},
     "output_type": "display_data"
    }
   ],
   "source": [
    "plot(cumsum(prop_varex), xlab = \"Principal Component\",\n",
    "              ylab = \"Cumulative Proportion of Variance Explained\",\n",
    "              type = \"b\")"
   ]
  },
  {
   "cell_type": "markdown",
   "metadata": {},
   "source": [
    "This plot shows that 30 components results in variance close to ~ 98%. Therefore, in this case, we’ll select number of components as 30 [PC1 to PC30] and proceed to the modeling stage. This completes the steps to implement PCA on train data. For modeling, we’ll use these 30 components as predictor variables and follow the normal procedures."
   ]
  },
  {
   "cell_type": "markdown",
   "metadata": {},
   "source": [
    "# Predictive Modeling with PCA Components"
   ]
  },
  {
   "cell_type": "markdown",
   "metadata": {},
   "source": [
    "After we’ve calculated the principal components on training set, let’s now understand the process of predicting on test data using these components. The process is simple. Just like we’ve obtained PCA components on training set, we’ll get another bunch of components on testing set. Finally, we train the model.\n",
    "\n",
    "But, few important points to understand:\n",
    "\n",
    "* We should not combine the train and test set to obtain PCA components of whole data at once. Because, this would violate the entire assumption of generalization since test data would get ‘leaked’ into the training set. In other words, the test data set would no longer remain ‘unseen’. Eventually, this will hammer down the generalization capability of the model.\n",
    "* We should not perform PCA on test and train data sets separately. Because, the resultant vectors from train and test PCAs will have different directions ( due to unequal variance). Due to this, we’ll end up comparing data registered on different axes. Therefore, the resulting vectors from train and test data should have same axes.\n",
    "\n",
    "So, what should we do?\n",
    "\n",
    "We should do exactly the same transformation to the test set as we did to training set, including the center and scaling feature. Let’s do it in R:"
   ]
  },
  {
   "cell_type": "markdown",
   "metadata": {},
   "source": [
    "## Applying same transformations of train set to test set"
   ]
  },
  {
   "cell_type": "code",
   "execution_count": 24,
   "metadata": {},
   "outputs": [
    {
     "name": "stderr",
     "output_type": "stream",
     "text": [
      "Warning message:\n",
      "\"package 'rpart' was built under R version 3.4.3\""
     ]
    },
    {
     "data": {
      "text/plain": [
       "n= 8523 \n",
       "\n",
       "node), split, n, deviance, yval\n",
       "      * denotes terminal node\n",
       "\n",
       " 1) root 8523 24817270000 2181.2890  \n",
       "   2) PC3>=1.671844 1083    73623120  339.8285 *\n",
       "   3) PC3< 1.671844 7440 20536640000 2449.3400  \n",
       "     6) PC27>=-0.02464682 3838  5499852000 1780.8280  \n",
       "      12) PC27>=1.079021 1017   586793000 1132.8500 *\n",
       "      13) PC27< 1.079021 2821  4332103000 2014.4310  \n",
       "        26) PC9>=-0.3193864 1627  1972546000 1675.5750  \n",
       "          52) PC19>=-1.337507 1439  1294309000 1534.0690 *\n",
       "          53) PC19< -1.337507 188   428870300 2758.6960 *\n",
       "        27) PC9< -0.3193864 1194  1918174000 2476.1710 *\n",
       "     7) PC27< -0.02464682 3602 11493930000 3161.6530  \n",
       "      14) PC6>=-2.648969 3155  8039466000 2925.5700  \n",
       "        28) PC9>=0.1215489 1412  2827138000 2417.5500  \n",
       "          56) PC27>=-1.461566 1182  1950290000 2217.1510 *\n",
       "          57) PC27< -1.461566 230   585430300 3447.4280 *\n",
       "        29) PC9< 0.1215489 1743  4552703000 3337.1150 *\n",
       "      15) PC6< -2.648969 447  2037483000 4827.9660  \n",
       "        30) PC8< -0.7209545 118   302595100 3358.4530 *\n",
       "        31) PC8>=-0.7209545 329  1388678000 5355.0250 *"
      ]
     },
     "metadata": {},
     "output_type": "display_data"
    }
   ],
   "source": [
    "#add a training set with principal components\n",
    "train.data = data.frame(Item_Outlet_Sales = train$Item_Outlet_Sales, prin_comp$x)\n",
    "\n",
    "#we are interested in first 30 PCAs\n",
    "train.data = train.data[,1:31]\n",
    "\n",
    "#run a decision tree\n",
    "library(rpart)\n",
    "rpart.model = rpart(Item_Outlet_Sales ~ .,data = train.data, method = \"anova\")\n",
    "\n",
    "#transform test into PCA\n",
    "test.data = predict(prin_comp, newdata = pca.test)\n",
    "test.data = as.data.frame(test.data)\n",
    "\n",
    "#select the first 30 components\n",
    "test.data = test.data[,1:30]\n",
    "\n",
    "#make prediction on test data\n",
    "rpart.prediction = predict(rpart.model, test.data)"
   ]
  },
  {
   "cell_type": "code",
   "execution_count": null,
   "metadata": {},
   "outputs": [],
   "source": []
  },
  {
   "cell_type": "code",
   "execution_count": null,
   "metadata": {},
   "outputs": [],
   "source": []
  },
  {
   "cell_type": "code",
   "execution_count": null,
   "metadata": {},
   "outputs": [],
   "source": []
  }
 ],
 "metadata": {
  "kernelspec": {
   "display_name": "R",
   "language": "R",
   "name": "ir"
  },
  "language_info": {
   "codemirror_mode": "r",
   "file_extension": ".r",
   "mimetype": "text/x-r-source",
   "name": "R",
   "pygments_lexer": "r",
   "version": "3.4.0"
  },
  "toc": {
   "base_numbering": 1,
   "nav_menu": {},
   "number_sections": true,
   "sideBar": true,
   "skip_h1_title": false,
   "title_cell": "Table of Contents",
   "title_sidebar": "Contents",
   "toc_cell": true,
   "toc_position": {
    "height": "calc(100% - 180px)",
    "left": "10px",
    "top": "150px",
    "width": "320px"
   },
   "toc_section_display": true,
   "toc_window_display": true
  }
 },
 "nbformat": 4,
 "nbformat_minor": 2
}
